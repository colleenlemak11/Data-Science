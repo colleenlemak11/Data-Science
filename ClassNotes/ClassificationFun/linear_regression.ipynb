{
 "cells": [
  {
   "cell_type": "markdown",
   "metadata": {},
   "source": [
    "## Warm Up\n",
    "* Create an xy dataset with 100 points that roughly resembles y = 2x plus some noise\n",
    "    * Let's seed our random number generator so we all have the same x, y dataset: np.random.seed(0)\n",
    "* Plot the xy data as a scatter plot"
   ]
  },
  {
   "cell_type": "code",
   "execution_count": 30,
   "metadata": {},
   "outputs": [],
   "source": [
    "import numpy as np\n",
    "\n",
    "# np.random.seed(0) # numbers stay the same\n",
    "\n",
    "x = list(range(100))\n",
    "y = []\n",
    "for val in x:\n",
    "    y.append(val * 2 + np.random.normal(0,25))\n",
    "# print(y)"
   ]
  },
  {
   "cell_type": "code",
   "execution_count": 31,
   "metadata": {},
   "outputs": [
    {
     "data": {
      "image/png": "[encoded data removed]",
      "text/plain": [
       "<Figure size 432x288 with 1 Axes>"
      ]
     },
     "metadata": {
      "needs_background": "light"
     },
     "output_type": "display_data"
    }
   ],
   "source": [
    "import matplotlib.pyplot as plt\n",
    "\n",
    "plt.scatter(x,y)\n",
    "plt.show()"
   ]
  },
  {
   "cell_type": "markdown",
   "metadata": {},
   "source": [
    "## Intro to Regression\n",
    "* Recall with supervised machine learning ML, when the attribute we want to predict is categorical, it is a classification task\n",
    "    * When the attribute is continuous, it is a regression task\n",
    "* There are lots of regression algorithms (in sci-kit learn, regressors)\n",
    "    * Linear regression\n",
    "    * kNN regressor\n",
    "    * Decision tree regressor\n",
    "    * Support vector regressor\n",
    "    * others...\n",
    "* Goal: fit a line to the xy-data\n",
    "    * Recall y = mx + b\n",
    "    * When there is one independent variable(x), it is called simple linear regression\n",
    "    * There is also multiple linear regression\n",
    "    * We can then use our y = mx + b model to make predictions for unseen x values"
   ]
  },
  {
   "cell_type": "code",
   "execution_count": 32,
   "metadata": {},
   "outputs": [
    {
     "name": "stdout",
     "output_type": "stream",
     "text": [
      "m: 1.9310598487432002 b: 3.340810925238472 r: 0.9262414775121742\n"
     ]
    }
   ],
   "source": [
    "import scipy.stats as stats\n",
    "\n",
    "m, b, r, p_val, std_err = stats.linregress(x,y)\n",
    "print(\"m:\", m, \"b:\", b, \"r:\", r)"
   ]
  },
  {
   "cell_type": "code",
   "execution_count": 33,
   "metadata": {},
   "outputs": [
    {
     "name": "stdout",
     "output_type": "stream",
     "text": [
      "prediction: 196.44679579955852 residual (error): 3.5532042004414848\n"
     ]
    }
   ],
   "source": [
    "# make a prediction for unseen x\n",
    "test_instance = 100\n",
    "y_predicted = m * test_instance + b\n",
    "print(\"prediction:\", y_predicted, \"residual (error):\", 2 * test_instance - y_predicted)\n"
   ]
  },
  {
   "cell_type": "code",
   "execution_count": 42,
   "metadata": {},
   "outputs": [
    {
     "name": "stdout",
     "output_type": "stream",
     "text": [
      "prediction: [196.4467958] residual (error): [3.5532042]\n"
     ]
    }
   ],
   "source": [
    "# do again but with sci kit learn which supports linear regression\n",
    "from sklearn.linear_model import LinearRegression\n",
    "\n",
    "reg = LinearRegression()\n",
    "\n",
    "# before we call fit, we need to reshape our data, X is matrix and x is vector\n",
    "X = np.reshape(x, (-1,1)) # 100x1 matrix, list where each element is in its own list\n",
    "# print(X)\n",
    "reg.fit(X,y)\n",
    "\n",
    "y_predicted = reg.predict([[test_instance]]) # makes it a matrix\n",
    "\n",
    "print(\"prediction:\", y_predicted, \"residual (error):\", 2 * test_instance - y_predicted)"
   ]
  },
  {
   "cell_type": "markdown",
   "metadata": {},
   "source": [
    "## Regression Evaluation Metrics\n",
    "Goal: is to quantify the strength of the relationship between the independent variables (ex: x) and the dependent variable (ex: y)\n",
    "* Correlation ($r$): a value in the range [-1.0, 1.0]\n",
    "    * 1.0 means a perfect linear relationship: as x increases, so does y, as x decreases, so does y\n",
    "    * -1.0 means a perfect **inverse** linear relationship: as x increases, y decreases: as x decreases, y increases\n",
    "    * At or near 0.0 means little to no linear relationship (x and y are independent)\n",
    "    * Note: CORRELATION DOES NOT IMPLY CAUSATION\n",
    "    * Calculate r with `scipy.stats.pearson(x,y)`\n",
    "* Coefficient of determination ($R^2$): a value in `[0.0,1.0]`\n",
    "    * The proportion of variation in y that is explained in x\n",
    "    * The higher your $R^2$, the stronger the relationship between x and y (the better your model)\n",
    "    * This is the default scoring metric for linear regression in sci kit learn\n",
    "    \n"
   ]
  },
  {
   "cell_type": "code",
   "execution_count": 46,
   "metadata": {},
   "outputs": [
    {
     "name": "stdout",
     "output_type": "stream",
     "text": [
      "r: 0.9262414775121742\n",
      "R^2: 0.8579232746639356\n"
     ]
    }
   ],
   "source": [
    "print(\"r:\", r)\n",
    "print(\"R^2:\", r * r) # 86% of the variation in y is explained x\n",
    "# 14% of the variation in y cannot be explained by x (noise we added)"
   ]
  }
 ],
 "metadata": {
  "interpreter": {
   "hash": "62d5fa2a16ce955d7a264e6706feb8088754ba4a8b2fa506b19effc7ba754be8"
  },
  "kernelspec": {
   "display_name": "Python 3.8.8 64-bit ('base': conda)",
   "language": "python",
   "name": "python3"
  },
  "language_info": {
   "codemirror_mode": {
    "name": "ipython",
    "version": 3
   },
   "file_extension": ".py",
   "mimetype": "text/x-python",
   "name": "python",
   "nbconvert_exporter": "python",
   "pygments_lexer": "ipython3",
   "version": "3.8.8"
  },
  "orig_nbformat": 4
 },
 "nbformat": 4,
 "nbformat_minor": 2
}
