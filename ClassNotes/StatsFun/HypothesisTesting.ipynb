{
 "cells": [
  {
   "cell_type": "markdown",
   "id": "ac3aad3d-e32c-469b-bc00-a43999d530ae",
   "metadata": {},
   "source": [
    "## Hypothesis Testing Nov 11 Notes"
   ]
  },
  {
   "cell_type": "code",
   "execution_count": 2,
   "id": "2d52b40b",
   "metadata": {},
   "outputs": [
    {
     "name": "stdout",
     "output_type": "stream",
     "text": [
      "Xbar: 29.0 s: 2.7774602993176543 n: 8 df: 7 t: -2.0367003088692623\n"
     ]
    }
   ],
   "source": [
    "import numpy as np\n",
    "x = [30, 28, 32, 26, 33, 25, 28, 30]\n",
    "# calculate $\\overline{X}$, s, n, df, and t\n",
    "\n",
    "Xbar = np.mean(x)\n",
    "s = np.std(x, ddof=1)\n",
    "n = len(x)\n",
    "df = n - 1\n",
    "t = (Xbar - 31) / (s / np.sqrt(n))\n",
    "\n",
    "print(\"Xbar:\", Xbar, \"s:\", s, \"n:\", n, \"df:\", df, \"t:\", t)"
   ]
  },
  {
   "cell_type": "code",
   "execution_count": 3,
   "id": "74814f2e-e6de-45cb-8940-65937c6a8b10",
   "metadata": {},
   "outputs": [
    {
     "name": "stdout",
     "output_type": "stream",
     "text": [
      "t: -2.0367003088692623 p: 0.0811068697473857\n"
     ]
    }
   ],
   "source": [
    "# check our work with scipy\n",
    "import scipy.stats as stats\n",
    "import numpy as np\n",
    "# mu is 31\n",
    "t, p = stats.ttest_1samp(x, 31)\n",
    "print(\"t:\", t, \"p:\", p)"
   ]
  },
  {
   "cell_type": "code",
   "execution_count": 4,
   "id": "2f7c6157-ff90-4d32-be3c-5e0dfc7c1738",
   "metadata": {},
   "outputs": [
    {
     "name": "stdout",
     "output_type": "stream",
     "text": [
      "t: -2.0367003088692623 p: 0.04055343487369285\n"
     ]
    }
   ],
   "source": [
    "# one tailed test\n",
    "t, p = stats.ttest_1samp(x, 31)\n",
    "print(\"t:\", t, \"p:\", p/2) # divide by 2 here because region of rejection of 1 tailed is 1/2 of 2 tailed"
   ]
  },
  {
   "cell_type": "markdown",
   "id": "28e1113f",
   "metadata": {},
   "source": [
    "### 2 Sample Independent Example"
   ]
  },
  {
   "cell_type": "code",
   "execution_count": 5,
   "id": "d7e16fc9",
   "metadata": {},
   "outputs": [
    {
     "name": "stdout",
     "output_type": "stream",
     "text": [
      "t: 2.1851550736735224\n"
     ]
    }
   ],
   "source": [
    "exp = [61, 102, 119, 128, 62, 158, 271, 57, 266, 137]\n",
    "cont = [24, 125, 43, 62, 32, 138, 53, 117, 97, 63]\n",
    "\n",
    "Xbar_exp = np.mean(exp)\n",
    "Xbar_cont = np.mean(cont)\n",
    "s_exp = np.std(exp, ddof=1)\n",
    "s_cont = np.std(cont, ddof=1)\n",
    "n_exp = len(exp)\n",
    "n_cont = len(cont)\n",
    "\n",
    "df = n_exp + n_cont - 2\n",
    "sp2 = ((n_exp - 1) * s_exp ** 2 + (n_cont - 1) * s_cont ** 2) / (n_exp + n_cont  - 2)\n",
    "t = (Xbar_exp - Xbar_cont) / np.sqrt(sp2 * (1 / n_exp + 1 / n_cont))\n",
    "print(\"t:\", t)"
   ]
  },
  {
   "cell_type": "code",
   "execution_count": 6,
   "id": "60af8c1f",
   "metadata": {},
   "outputs": [
    {
     "name": "stdout",
     "output_type": "stream",
     "text": [
      "2.1851550736735232 0.02117066199247144\n"
     ]
    }
   ],
   "source": [
    "# check work with scipy\n",
    "# one tailed test\n",
    "t, p = stats.ttest_ind(exp, cont)\n",
    "print(t, p/2)\n"
   ]
  },
  {
   "cell_type": "markdown",
   "id": "d519be3d",
   "metadata": {},
   "source": [
    "### 2 Sample Dependent Example"
   ]
  },
  {
   "cell_type": "code",
   "execution_count": 9,
   "id": "c3dff5eb",
   "metadata": {},
   "outputs": [
    {
     "name": "stdout",
     "output_type": "stream",
     "text": [
      "t: 2.208963121532172\n"
     ]
    }
   ],
   "source": [
    "before = np.array([45, 52, 34, 38, 47, 42, 61, 53, 52, 49])\n",
    "after = np.array([49, 56, 31, 46, 54, 39, 68, 55, 50, 55])\n",
    "n = len(after)\n",
    "\n",
    "d = after - before\n",
    "dbar = np.mean(d)\n",
    "Sd = np.std(d, ddof=1)\n",
    "Sdbar = Sd / np.sqrt(n)\n",
    "t = dbar / Sdbar\n",
    "print(\"t:\", t)\n"
   ]
  },
  {
   "cell_type": "code",
   "execution_count": 10,
   "id": "6e192559",
   "metadata": {},
   "outputs": [
    {
     "name": "stdout",
     "output_type": "stream",
     "text": [
      "2.208963121532172 0.02726870763166227\n"
     ]
    }
   ],
   "source": [
    "# check work with scipy\n",
    "# one tailed test\n",
    "t, p = stats.ttest_rel(after, before)\n",
    "print(t, p/2)"
   ]
  }
 ],
 "metadata": {
  "kernelspec": {
   "display_name": "Python 3",
   "language": "python",
   "name": "python3"
  },
  "language_info": {
   "codemirror_mode": {
    "name": "ipython",
    "version": 3
   },
   "file_extension": ".py",
   "mimetype": "text/x-python",
   "name": "python",
   "nbconvert_exporter": "python",
   "pygments_lexer": "ipython3",
   "version": "3.8.8"
  }
 },
 "nbformat": 4,
 "nbformat_minor": 5
}
