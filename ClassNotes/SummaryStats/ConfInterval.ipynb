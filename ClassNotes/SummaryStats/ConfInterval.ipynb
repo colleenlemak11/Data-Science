{
 "cells": [
  {
   "cell_type": "code",
   "execution_count": 6,
   "metadata": {},
   "outputs": [
    {
     "name": "stdout",
     "output_type": "stream",
     "text": [
      "Xbar: 8.98 s: 1.29\n",
      "margin of error: 0.81989133757425\n",
      "(8.16, 9.8)\n",
      "we are 95% confident the population mean (number of hours slept each night) is in (8.16, 9.8)\n"
     ]
    }
   ],
   "source": [
    "import numpy as np\n",
    "\n",
    "x = [8.2, 9.1, 7.7, 8.6, 6.9, 11.2, 10.1, 9.9, 8.9, 9.2, 7.5, 10.5]\n",
    "\n",
    "Xbar = np.mean(x) # sample mean\n",
    "s = np.std(x, ddof=1) # sample standard deviation... pass ddof=1 for numpy std() to get sample standard dev\n",
    "print(\"Xbar: %.2f s: %.2f\" %(Xbar, s))\n",
    "t = 2.201\n",
    "n = len(x)\n",
    "margin_of_error = t * s / np.sqrt(n)\n",
    "print(\"margin of error:\", margin_of_error)\n",
    "conf_interval = (round(Xbar - margin_of_error, 2), round(Xbar + margin_of_error, 2))\n",
    "print(conf_interval)\n",
    "print(\"we are 95% confident the population mean (number of hours slept each night) is in\", conf_interval)"
   ]
  },
  {
   "cell_type": "markdown",
   "metadata": {},
   "source": [
    "T dist (less than 30 data points)\n",
    "higher sample size, and lower degrees of freedom = more confidence"
   ]
  },
  {
   "cell_type": "markdown",
   "metadata": {},
   "source": [
    "### Visualize the Confidence Intervals\n",
    "1. A line for interval with a point for the sample mean\n",
    "2. A bar for the sample mean and error lines for the interval\n"
   ]
  },
  {
   "cell_type": "code",
   "execution_count": 16,
   "metadata": {},
   "outputs": [
    {
     "data": {
      "image/png": "[encoded data removed]",
      "text/plain": [
       "<Figure size 432x288 with 1 Axes>"
      ]
     },
     "metadata": {
      "needs_background": "light"
     },
     "output_type": "display_data"
    }
   ],
   "source": [
    "import matplotlib.pyplot as plt\n",
    "\n",
    "plt.plot([1], [Xbar], color=\"blue\", marker=\"o\")\n",
    "plt.plot([1, 1], conf_interval, color=\"blue\")\n",
    "plt.show()"
   ]
  },
  {
   "cell_type": "code",
   "execution_count": 21,
   "metadata": {},
   "outputs": [
    {
     "data": {
      "image/png": "[encoded data removed]",
      "text/plain": [
       "<Figure size 432x288 with 1 Axes>"
      ]
     },
     "metadata": {
      "needs_background": "light"
     },
     "output_type": "display_data"
    }
   ],
   "source": [
    "plt.bar([1], [Xbar], yerr=margin_of_error)\n",
    "plt.xlim([0.0, 2.0])\n",
    "plt.ylim([0.0, 12.0])\n",
    "plt.xticks([1], [\"Sleep\"])\n",
    "plt.show()"
   ]
  },
  {
   "cell_type": "markdown",
   "metadata": {},
   "source": [
    "### work extra practice problem in nov 9 notes"
   ]
  }
 ],
 "metadata": {
  "interpreter": {
   "hash": "62d5fa2a16ce955d7a264e6706feb8088754ba4a8b2fa506b19effc7ba754be8"
  },
  "kernelspec": {
   "display_name": "Python 3.8.8 64-bit ('base': conda)",
   "language": "python",
   "name": "python3"
  },
  "language_info": {
   "codemirror_mode": {
    "name": "ipython",
    "version": 3
   },
   "file_extension": ".py",
   "mimetype": "text/x-python",
   "name": "python",
   "nbconvert_exporter": "python",
   "pygments_lexer": "ipython3",
   "version": "3.8.8"
  },
  "orig_nbformat": 4
 },
 "nbformat": 4,
 "nbformat_minor": 2
}
