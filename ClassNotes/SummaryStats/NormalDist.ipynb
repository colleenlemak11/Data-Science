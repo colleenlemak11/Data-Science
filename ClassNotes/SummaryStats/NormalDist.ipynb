{
 "cells": [
  {
   "cell_type": "markdown",
   "metadata": {},
   "source": [
    "### NOV 4 NOTES\n",
    "### Normal Distribution Properties"
   ]
  },
  {
   "cell_type": "markdown",
   "metadata": {},
   "source": [
    "1. Mean = median = mode\n",
    "2. Symmetric about the center\n",
    "3. 50% of the values are < mean and 50% are > the mean\n",
    "4. Area under the curve is 1 aka 100% values"
   ]
  },
  {
   "cell_type": "markdown",
   "metadata": {},
   "source": [
    "Standard Normal Distribution\n",
    "* Normal Distribution with mu = 0\n",
    "* sigma = 1\n",
    "\n",
    "Use case\n",
    "* given a sample of observations, we can compute how many standard derivations a single observation, x, y, from the mean\n",
    "    * where x lies on the standard normal curve\n",
    "* example: z-score = (x-mu)/sigma \n",
    "    * in units of standard deviations away"
   ]
  },
  {
   "cell_type": "markdown",
   "metadata": {},
   "source": [
    "### T-Distribution\n",
    "* T-distribution is like a z-distribution based on a certain number called the degrees of freedom (df)\n",
    "    * n = sample size -> as n increases, df increases too\n",
    "    * t-dist looks more and more like a z-distribution"
   ]
  },
  {
   "cell_type": "markdown",
   "metadata": {},
   "source": [
    "When to use a t-dist (instead of z-dist)\n",
    "* when your sample size is small aka < 30\n",
    "* when you don't know your population standard deviation\n",
    "\n",
    "In this class when we assume normal, it is safe to always use a t-dist"
   ]
  },
  {
   "cell_type": "markdown",
   "metadata": {},
   "source": [
    "### Confidence Interval Intro\n",
    "* confidence interval\n",
    "    * range of values that we are a certain % confident a population parameter lies within\n",
    "        * ex: population mean for all college students' age in 200 level CS courses\n",
    "* hypothesis testing\n",
    "    * testing a statement aka a hypothesis about a population\n",
    "        * ex: mean age of 200 level CS students is > 18"
   ]
  }
 ],
 "metadata": {
  "interpreter": {
   "hash": "62d5fa2a16ce955d7a264e6706feb8088754ba4a8b2fa506b19effc7ba754be8"
  },
  "kernelspec": {
   "display_name": "Python 3.8.8 64-bit ('base': conda)",
   "name": "python3"
  },
  "language_info": {
   "name": "python",
   "version": "3.8.8"
  },
  "orig_nbformat": 4
 },
 "nbformat": 4,
 "nbformat_minor": 2
}
