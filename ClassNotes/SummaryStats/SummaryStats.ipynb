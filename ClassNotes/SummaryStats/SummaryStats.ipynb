{
 "cells": [
  {
   "cell_type": "code",
   "execution_count": 1,
   "metadata": {},
   "outputs": [
    {
     "name": "stdout",
     "output_type": "stream",
     "text": [
      "hello!!!\n"
     ]
    }
   ],
   "source": [
    "import utils\n",
    "import importlib\n",
    "importlib.reload(utils)\n",
    "\n",
    "utils.say_hello()"
   ]
  },
  {
   "cell_type": "markdown",
   "metadata": {},
   "source": [
    "# Summary Stats\n",
    "Recall: we said that instances are sampled from the \"universe of instances\"\n",
    "\n",
    "In stats, we say that a dataset is a sample from a population (\"universe of instances\")\n",
    "* dataset = sample\n",
    "* universe of instances = population\n",
    "\n",
    "Example\n",
    "* Sample: the number of emails CPSC 222 students receive in October 2021\n",
    "* Population: the number of emails ALL students world-wide receive in October 2021\n",
    "    * Expensive (time and money)\n",
    "\n",
    "More key stats terms:\n",
    "* Parameter: any measurable characteristic of a population\n",
    "    * ex: population mean $\\mu$\n",
    "* Statistic: any measurable characteristic of a sampe\n",
    "    * ex: sample mean $overline(x)$\n",
    "* Descriptive stats: organizing, summarizing, presenting data in an informative way\n",
    "    * ex: central tendency measures, charting, ...\n",
    "* Inferential stats: making inferences that go beyond known data\n",
    "    * ex: infer something about a population based on a sample\n",
    "    * ex: hypothesis testing, prediction with linear regression, machine learning, ...\n",
    "    * interpolating data to predict beyond what you know\n"
   ]
  },
  {
   "cell_type": "markdown",
   "metadata": {},
   "source": [
    "## Summary Stats\n",
    "A summary stat summarizes data into a single value or set of values\n",
    "\n",
    "Number of instances:"
   ]
  },
  {
   "cell_type": "code",
   "execution_count": 20,
   "metadata": {},
   "outputs": [
    {
     "name": "stdout",
     "output_type": "stream",
     "text": [
      "0    8\n",
      "1    5\n",
      "2    4\n",
      "3    9\n",
      "4    8\n",
      "5    6\n",
      "dtype: int64\n",
      "number of instances: 6 (6,)\n"
     ]
    }
   ],
   "source": [
    "import pandas as pd\n",
    "\n",
    "x = [8, 5, 4, 9, 8, 6]\n",
    "ser = pd.Series(x)\n",
    "print(ser)\n",
    "print(\"number of instances:\", len(ser), ser.shape)"
   ]
  },
  {
   "cell_type": "markdown",
   "metadata": {},
   "source": [
    "Min and max\n",
    "* Doesn't make sense for nominal attributes"
   ]
  },
  {
   "cell_type": "code",
   "execution_count": 21,
   "metadata": {},
   "outputs": [
    {
     "name": "stdout",
     "output_type": "stream",
     "text": [
      "min: 4 max: 9\n"
     ]
    }
   ],
   "source": [
    "print(\"min:\", ser.min(), \"max:\", ser.max())"
   ]
  },
  {
   "cell_type": "markdown",
   "metadata": {},
   "source": [
    "## Central Tendency\n",
    "Central Tendency represents the middle value(s) of a data distribution\n",
    "\n",
    "Mid value: $\\frac{min+max}{2}$"
   ]
  },
  {
   "cell_type": "code",
   "execution_count": 22,
   "metadata": {},
   "outputs": [
    {
     "name": "stdout",
     "output_type": "stream",
     "text": [
      "mid value: 6.5\n"
     ]
    }
   ],
   "source": [
    "print(\"mid value:\", (ser.min() + ser.max()) / 2)"
   ]
  },
  {
   "cell_type": "markdown",
   "metadata": {},
   "source": [
    "Arithmetic mean (AKA average)\n",
    "* Senstitive to outliers\n",
    "* Should only be applied if you know your data is numeric"
   ]
  },
  {
   "cell_type": "code",
   "execution_count": 23,
   "metadata": {},
   "outputs": [
    {
     "name": "stdout",
     "output_type": "stream",
     "text": [
      "mean 6.666666666666667\n"
     ]
    }
   ],
   "source": [
    "print(\"mean\", ser.mean())"
   ]
  },
  {
   "cell_type": "markdown",
   "metadata": {},
   "source": [
    "Median: middle value in a list of sorted values\n",
    "* If the number of instances is even, then take the midpoint between the two middle numbers"
   ]
  },
  {
   "cell_type": "code",
   "execution_count": 24,
   "metadata": {},
   "outputs": [
    {
     "name": "stdout",
     "output_type": "stream",
     "text": [
      "2    4\n",
      "1    5\n",
      "5    6\n",
      "0    8\n",
      "4    8\n",
      "3    9\n",
      "dtype: int64\n",
      "7.0\n"
     ]
    }
   ],
   "source": [
    "print(ser.sort_values())\n",
    "print(ser.median())"
   ]
  },
  {
   "cell_type": "markdown",
   "metadata": {},
   "source": [
    "Mode: the most frequently occurring value(s)"
   ]
  },
  {
   "cell_type": "code",
   "execution_count": 25,
   "metadata": {},
   "outputs": [
    {
     "name": "stdout",
     "output_type": "stream",
     "text": [
      "0    8\n",
      "dtype: int64\n",
      "\n",
      "0    8\n",
      "1    5\n",
      "2    4\n",
      "3    9\n",
      "4    8\n",
      "5    6\n",
      "6    9\n",
      "dtype: int64\n",
      "0    8\n",
      "1    9\n",
      "dtype: int64\n"
     ]
    }
   ],
   "source": [
    "# 8 is int64 but mode is series\n",
    "print(ser.mode())\n",
    "print()\n",
    "x = [8, 5, 4, 9, 8, 6, 9]\n",
    "ser2 = pd.Series(x)\n",
    "print(ser2)\n",
    "print(ser2.mode())"
   ]
  },
  {
   "cell_type": "markdown",
   "metadata": {},
   "source": [
    "## Data Dispersion (Spread)\n",
    "Range: max - min"
   ]
  },
  {
   "cell_type": "code",
   "execution_count": 26,
   "metadata": {},
   "outputs": [
    {
     "name": "stdout",
     "output_type": "stream",
     "text": [
      "range 5\n"
     ]
    }
   ],
   "source": [
    "print(\"range\", ser.max() - ser.min())"
   ]
  },
  {
   "cell_type": "markdown",
   "metadata": {},
   "source": [
    "Quantiles: roughly equalized partitions of the data (in sorted order)\n",
    "* 2 quantiles: 1 data point that divides the dataset into 2 halves (AKA median)\n",
    "* Quartiles: 3 data points that divides the dataset into quarters\n",
    "* percentiles: 99 data points that divide the dataset into 100 groups\n",
    "    * 25th percentile: 1st quartile\n",
    "    * 50th percentile: 2nd quartile which is median\n",
    "    * 75th percentie: 3rd quartile\n",
    "* IQR, interquartile range: 75th percentile - 25th percentile, middle 50 percent"
   ]
  },
  {
   "cell_type": "code",
   "execution_count": 27,
   "metadata": {},
   "outputs": [
    {
     "name": "stdout",
     "output_type": "stream",
     "text": [
      "2    4\n",
      "1    5\n",
      "5    6\n",
      "0    8\n",
      "4    8\n",
      "3    9\n",
      "6    9\n",
      "dtype: int64\n",
      "25th percentile/1st quantile: 0.25    5.25\n",
      "dtype: float64\n"
     ]
    }
   ],
   "source": [
    "print(ser2.sort_values())\n",
    "print(\"25th percentile/1st quantile:\", ser.quantile([0.25]))\n",
    "# 5.5 is not an actual data point in ser2, just saying 25% of data is smaller than 5.5"
   ]
  },
  {
   "cell_type": "code",
   "execution_count": 28,
   "metadata": {},
   "outputs": [
    {
     "name": "stdout",
     "output_type": "stream",
     "text": [
      "25th percentile: 6\n"
     ]
    }
   ],
   "source": [
    "# let's say we need an actual point in our dataset\n",
    "sorted_ser2 = ser2.sort_values()\n",
    "index = round(0.25 * len(sorted_ser2))\n",
    "print(\"25th percentile:\", sorted_ser2.iloc[index])"
   ]
  },
  {
   "cell_type": "markdown",
   "metadata": {},
   "source": [
    "## Box Plots\n",
    "These are great visualizations of the spread of data\n",
    "* Non-parametric"
   ]
  },
  {
   "cell_type": "code",
   "execution_count": 29,
   "metadata": {},
   "outputs": [
    {
     "data": {
      "image/png": "[encoded data removed]",
      "text/plain": [
       "<Figure size 432x288 with 1 Axes>"
      ]
     },
     "metadata": {
      "needs_background": "light"
     },
     "output_type": "display_data"
    }
   ],
   "source": [
    "import matplotlib.pyplot as plt\n",
    "import numpy as np\n",
    "\n",
    "mean = 100\n",
    "stdev = 25\n",
    "num_samples = 1000\n",
    "x1 = np.random.normal(mean, stdev, num_samples)\n",
    "stdev = 5\n",
    "num_samples = 500\n",
    "x2 = np.random.normal(mean, stdev, num_samples)\n",
    "\n",
    "# the orange horizontal line in the box is the median\n",
    "# the box around the median is the IQR\n",
    "# the lines that extend from the plot (whiskers) are the Q3/Q1 +/- 1.5 * IQR\n",
    "# the circles ouside the whiskers are outliers\n",
    "\n",
    "plt.boxplot([x1, x2])\n",
    "plt.show()"
   ]
  },
  {
   "cell_type": "markdown",
   "metadata": {},
   "source": [
    "Varience: spread the mean\n",
    "* High variance: data is more spread out from the mean\n",
    "* Low variance: data is more clustered around the mean\n",
    "\n",
    "Standard deviation: sqaure root of variance\n",
    "* More commonly used...it is in the same units as the mean\n"
   ]
  },
  {
   "cell_type": "code",
   "execution_count": 30,
   "metadata": {},
   "outputs": [
    {
     "name": "stdout",
     "output_type": "stream",
     "text": [
      "vairance: 3.866666666666667\n",
      "standard deviation: 1.9663841605003503 1.9663841605003503\n"
     ]
    }
   ],
   "source": [
    "print(\"vairance:\", ser.var())\n",
    "print(\"standard deviation:\", ser.std(), np.sqrt(ser.var()))"
   ]
  },
  {
   "cell_type": "markdown",
   "metadata": {},
   "source": [
    "# Histogram Demo"
   ]
  },
  {
   "cell_type": "code",
   "execution_count": 31,
   "metadata": {},
   "outputs": [
    {
     "data": {
      "image/png": "[encoded data removed]",
      "text/plain": [
       "<Figure size 432x288 with 1 Axes>"
      ]
     },
     "metadata": {
      "needs_background": "light"
     },
     "output_type": "display_data"
    }
   ],
   "source": [
    "mean = 100\n",
    "stdev = 25\n",
    "num_samples = 1000\n",
    "x1 = np.random.normal(mean, stdev, num_samples)\n",
    "stdev = 5\n",
    "num_samples = 1000 # orange, half as big as 1000\n",
    "x2 = np.random.normal(mean, stdev, num_samples)\n",
    "\n",
    "plt.figure()\n",
    "plt.hist(x1, label=\"$\\sigma=25$\")\n",
    "plt.hist(x2, label=\"$\\sigma=5$\")\n",
    "plt.show()"
   ]
  },
  {
   "cell_type": "markdown",
   "metadata": {},
   "source": [
    "## Empirical Rule for Normal Distributions\n",
    "* If your data is \"normal\":\n",
    "    * about what % is within mean +/- 1 standard deviation = 68%\n",
    "    * about what % is within mean +/- 2 standard deviations = 95%\n",
    "    * about what % is within mean +/- 3 standard deviations = 99.7%\n",
    "\n",
    "Let's prove this for our sampe x1 data"
   ]
  },
  {
   "cell_type": "code",
   "execution_count": 32,
   "metadata": {},
   "outputs": [
    {
     "name": "stdout",
     "output_type": "stream",
     "text": [
      "100.628801773024\n",
      "23.993873276356936\n",
      "within +/- standard dev: 66.9\n"
     ]
    }
   ],
   "source": [
    "count_within_1stdev = 0\n",
    "count_within_2nddev = 0\n",
    "count_within_3rddev = 0\n",
    "\n",
    "mean_sampled = np.mean(x1)\n",
    "print(mean_sampled)\n",
    "std_sampled = np.std(x1)\n",
    "print(std_sampled)\n",
    "\n",
    "for value in x1:\n",
    "    if mean_sampled - std_sampled <= value <= mean_sampled + std_sampled:\n",
    "        count_within_1stdev += 1\n",
    "    # finish other 2\n",
    "\n",
    "print(\"within +/- standard dev:\", count_within_1stdev / num_samples * 100)"
   ]
  }
 ],
 "metadata": {
  "interpreter": {
   "hash": "62d5fa2a16ce955d7a264e6706feb8088754ba4a8b2fa506b19effc7ba754be8"
  },
  "kernelspec": {
   "display_name": "Python 3.8.8 64-bit ('base': conda)",
   "name": "python3"
  },
  "language_info": {
   "codemirror_mode": {
    "name": "ipython",
    "version": 3
   },
   "file_extension": ".py",
   "mimetype": "text/x-python",
   "name": "python",
   "nbconvert_exporter": "python",
   "pygments_lexer": "ipython3",
   "version": "3.8.8"
  },
  "orig_nbformat": 4
 },
 "nbformat": 4,
 "nbformat_minor": 2
}
