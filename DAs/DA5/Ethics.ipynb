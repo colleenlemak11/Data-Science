{
 "cells": [
  {
   "cell_type": "markdown",
   "metadata": {},
   "source": [
    "1. Toward the beginning of the documentary, viewers are presented with the idea that social media sells our attention to advertisers to make their profits. The quote that best summarizes this business model is, \"If you’re not paying for the product, then you are the product.\" How do you feel about selling your attention to use the products for free? Are there short and long term effects that we can/cannot foresee?  \n",
    "* There are definitely drawbacks to having social media advertisements left and right, and I feel as if nothing is actually free because it's always a give and take with big companies.  \"Selling\" our attention for the use of free products is interesting to me as it might end up in selling more than just your attention.  Social media collects so much information about you, and to say the only exchange is use of product for a user's targeted advertising would probably be an understatement; things could very well end in security breaches and further privacy concerns in the near future.  Additionally, advertisements in the short term are harmful because it never leaves us satisfied if the ad is done right; we leave sites feeling like we need more or that we are not enough in one way or another."
   ]
  },
  {
   "cell_type": "markdown",
   "metadata": {},
   "source": [
    "2. Tristan Harris states, \"On the other side of the screen, it’s almost as if they had this avatar voodoo doll-like model of us. All of the things we've ever done, all the clicks we’ve ever made, all the videos we’ve watched, all the likes, that all gets brought back into building a more and more accurate model. The model, once you have it, you can predict the kinds of things that person does.\" He then states that tech companies have three main goals: engagement (drive up your usage), growth (keep you coming back and inviting friends), and advertising (making as much money as possible from advertising). Are there ethical lines that companies should not cross in order to achieve these three goals? Do you feel that the \"avatar voodoo doll-like model of us\" crosses these lines? Why or why not?  \n",
    "* Although it seems quite dehumanizing, odd, and possibly frightening to say we are simply voodoo doll models to companies, we are also considered similar things to other organizations.  For example, we are just considered numbers to the government for security purposes.  I feel as if data should be collected on us to have a more customized experience on social media, but to an extent.  It is scary to phrase it as Harris has, but they're right in a sense that we are just there to make companies money, which may seem unethical as the extents they go often cross boundaries of privacy and security, watching and tracking your every move whether you know it or don't.  I feel as if the phrase crosses lines when companies also cross lines, but the idea in itself is not completely unethical."
   ]
  },
  {
   "cell_type": "markdown",
   "metadata": {},
   "source": [
    "3. How do you feel about persuasive technology (e.g. programming of the \"the positive intermittent reinforcement\", AKA the slot machine)? As humans, are we able to differentiate between our original thoughts and ones that are \"planted\" unconsciously by persuasive technology?  \n",
    "* When I learned about this slot machine based reinforcement, it felt like the objective was to program us to become addicted to our technology by sending unpredictable bursts of dopamine, so you stay hooked when refreshing a page or scrolling through videos.  I think the lines between our original thoughts and planted ones are hard to distinguish because we are constantly affected by these persuasive technologies.  I know sometimes I catch myself getting too wrapped up in social media and its ideals to think for myself and distinguish between these thoughts."
   ]
  },
  {
   "cell_type": "markdown",
   "metadata": {},
   "source": [
    "4. What else struck you about this documentary?  \n",
    "* I found it fascinating when Tristan Harris was advocating for Gmail to be less addictive. People on the \"inside\" you would think would always want what would make them the most money, regardless of ethics.  I really admire the courage he had to stand up and not simply accept what his co-workers were caught up in; it isn't easy to speak up at a big company like Google, nevertheless when your idea is different."
   ]
  }
 ],
 "metadata": {
  "language_info": {
   "name": "python"
  },
  "orig_nbformat": 4
 },
 "nbformat": 4,
 "nbformat_minor": 2
}
