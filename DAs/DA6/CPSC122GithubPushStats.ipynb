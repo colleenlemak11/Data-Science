{
 "cells": [
  {
   "cell_type": "markdown",
   "metadata": {},
   "source": [
    "Programmer: Colleen Lemak  \n",
    "Class: CPSC222, Fall 2021  \n",
    "Data Assignment #6  \n",
    "Date: 11/17/21  \n",
    "Description: This program uses Jupyter Notebook to tell an EDA story and execute various tasks."
   ]
  },
  {
   "cell_type": "code",
   "execution_count": 3,
   "metadata": {},
   "outputs": [],
   "source": [
    "import pandas as pd\n",
    "import numpy as np\n",
    "import matplotlib.pyplot as plt\n",
    "import scipy.stats as stats"
   ]
  },
  {
   "cell_type": "markdown",
   "metadata": {},
   "source": [
    "### CPSC 122 Statistics!\n",
    "Objective of our study:\n",
    "* In this study, we collected data from students in two different sections of Gonzaga's CPSC 122 course.\n",
    "    * We tested if students' timeliness in pushing to GitHub would improve using a fully automated gamification software tool.\n",
    "\n",
    "Information about our datasets:\n",
    "* s1 represents data from the control group, while s2 represents data collected from the experiment group with our designed tool.\n",
    "* Each group has 25 students total.\n"
   ]
  },
  {
   "cell_type": "code",
   "execution_count": 4,
   "metadata": {},
   "outputs": [],
   "source": [
    "s1 = [15, 50, 0, 5, 0, 2, 0, 0, 0, 2, 0, 7, 0, 0, 0, 3, 0, 0, 12, 15, 0, 1, 0, 0, 0]\n",
    "s2 = [33, 3, 2, 8, 0, 41, 2, 0, 20, 1, 0, 0, 3, 17, 0, 5, 2, 0, 14, 4, 16, 22, 28, 4, 94]\n",
    "\n",
    "s1 = pd.Series(s1)\n",
    "s2 = pd.Series(s2)"
   ]
  },
  {
   "cell_type": "markdown",
   "metadata": {},
   "source": [
    "### Calculating Detailed Statistics\n",
    "\n",
    "1. s2 Mid Value \n",
    "    * $\\frac{min+max}{2}$\n",
    "2. s2 Mean\n",
    "    * $\\overline{x}$ = $\\frac{\\sum_{}{}{s2}}{n}$\n",
    "3. s2 Median\n",
    "    * if n is odd:\n",
    "        * i = $\\frac{n+1}{2}$\n",
    "        * median = $x_{i}$\n",
    "    * if n is even:\n",
    "        * i = $\\frac{n}{2}$\n",
    "        * median = $\\frac{x_i + x_{i+1}}{2}$\n",
    "4. s2 Mode\n",
    "    * $s2.mode()$ = most frequently occurring data value\n",
    "5. s2 Range\n",
    "    * $s2.max() - s2.min()$\n",
    "6. s2 Quartiles\n",
    "    * $s2.quantile([0.25])$\n",
    "    * $s2.quantile([0.50])$\n",
    "    * $s2.quantile([0.75])$\n",
    "7. s2 Variance\n",
    "    * $s_{p}^2$ = $\\frac{(n_1-1)s_1^2 + (n_2-1)s_2^2}{n_1+n_2-2}$\n",
    "8. s2 Standard Deviation\n",
    "    * $\\sqrt\\frac{{\\sum{}{}{(x-\\overline{x})^2}}}{n-1}$\n",
    "9. s1 95% confidence interval for the population mean\n",
    "    * $\\overline{X}\\pm t \\frac{s}{\\sqrt{n}}$   \n",
    "    * Margin of error: $Z \\frac{\\sigma}{\\sqrt{n}}$  \n",
    "    * Z = Critical Value  \n",
    "    * $\\frac{\\sigma}{\\sqrt{n}}$ = Standard Error  \n",
    "    * $\\sigma$ = Standard Dev  \n",
    "    * N = Sample Size  \n",
    "10. s2 95% confidence interval for the population mean\n",
    "    * $\\overline{X}\\pm t \\frac{s}{\\sqrt{n}}$   \n",
    "    * Margin of error: $Z \\frac{\\sigma}{\\sqrt{n}}$  \n",
    "    * Z = Critical Value  \n",
    "    * $\\frac{\\sigma}{\\sqrt{n}}$ = Standard Error  \n",
    "    * $\\sigma$ = Standard Dev  \n",
    "    * N = Sample Size "
   ]
  },
  {
   "cell_type": "markdown",
   "metadata": {},
   "source": [
    "Now continuing #10, let's visualize s1 and s2 95% confidence intervals:"
   ]
  },
  {
   "cell_type": "code",
   "execution_count": 5,
   "metadata": {},
   "outputs": [
    {
     "name": "stdout",
     "output_type": "stream",
     "text": [
      "We are 95% certain that the s1 population mean is in (0.11, 8.85)\n",
      "We are 95% certain that the s2 population mean is in (4.29, 21.23)\n"
     ]
    }
   ],
   "source": [
    "Xbar_s1 = np.mean(s1)\n",
    "Xbar_s2 = np.mean(s2)\n",
    "std_s1 = np.std(s1, ddof=1)\n",
    "std_s2 = np.std(s2, ddof=1)\n",
    "\n",
    "n_s1 = len(s1)\n",
    "n_s2 = len(s2)\n",
    "t_critical = 2.064\n",
    "\n",
    "margin_of_error_s1 = (t_critical * std_s1) / np.sqrt(n_s1)\n",
    "margin_of_error_s2 = (t_critical * std_s2) / np.sqrt(n_s2)\n",
    "\n",
    "conf_interval_s1 = (round(Xbar_s1 - margin_of_error_s1, 2), round(Xbar_s1 + margin_of_error_s1, 2))\n",
    "print(\"We are 95% certain that the s1 population mean is in\", conf_interval_s1)\n",
    "\n",
    "conf_interval_s2 = (round(Xbar_s2 - margin_of_error_s2, 2), round(Xbar_s2 + margin_of_error_s2, 2))\n",
    "print(\"We are 95% certain that the s2 population mean is in\", conf_interval_s2)"
   ]
  },
  {
   "cell_type": "code",
   "execution_count": 6,
   "metadata": {},
   "outputs": [
    {
     "data": {
      "image/png": "[encoded data removed]",
      "text/plain": [
       "<Figure size 432x288 with 1 Axes>"
      ]
     },
     "metadata": {
      "needs_background": "light"
     },
     "output_type": "display_data"
    }
   ],
   "source": [
    "# coding up s1 visualization\n",
    "plt.plot([1], [Xbar_s1], color=\"purple\", marker=\"o\")\n",
    "plt.plot([1, 1], conf_interval_s1, color=\"purple\", label=\"s1\")\n",
    "\n",
    "# coding up s2 visualization\n",
    "plt.plot([2], [Xbar_s2], color=\"green\", marker=\"o\")\n",
    "plt.plot([2, 2], conf_interval_s2, color=\"green\", label=\"s2\")\n",
    "\n",
    "plt.xlim([0.0, 3.0])\n",
    "plt.ylim([-5.0, 25.0])\n",
    "plt.legend()\n",
    "plt.show()"
   ]
  },
  {
   "cell_type": "markdown",
   "metadata": {},
   "source": [
    "11. s2 one-sample, one-tailed t-test of the population mean\n",
    "* We are using the t-test to test the following hypothesis: \n",
    "    * Hypothesis: on average, the s2 students pushed more than 7 total days in advance of the deadline.\n",
    "        * Our question: on average, did the s2 students push more than 7 total days in advance of the deadlines? \n",
    "            * That could be about 1 day early per assignment (or 1 assignment 7 days early, etc.).\n",
    "    * Our level of significance is 0.05.\n",
    "    * Question after calculations: Are the results from the confidence interval and the hypothesis testing consistent?"
   ]
  },
  {
   "cell_type": "markdown",
   "metadata": {},
   "source": [
    "Let's use the 5 Step Hypothesis Testing Approach...\n",
    "1. Identify the null and alternative hypothesis\n",
    "2. Select the level of significance of the test\n",
    "3. Select the appropriate test statistic\n",
    "4. Formulate the decision rule\n",
    "5. Make a decision"
   ]
  },
  {
   "cell_type": "markdown",
   "metadata": {},
   "source": [
    "**1. Identify the null and alternative hypothesis**\n",
    "\n",
    "* Null hypothesis\n",
    "    * On average, the s2 students pushed less than or equal to 7 total days in advance of the deadline.\n",
    "        * $H_0$: $\\mu_{s2}$ $\\le$ 7 total days pushed in advance\n",
    "\n",
    "* Alternative hypothesis\n",
    "    * On average, the s2 students pushed more than 7 total days in advance of the deadline.\n",
    "        * $H_1$: $\\mu_{s2}$ > 7 total days pushed in advance"
   ]
  },
  {
   "cell_type": "markdown",
   "metadata": {},
   "source": [
    "**2. Select the level of significance of the test**\n",
    "\n",
    "* Level of significance \n",
    "    * $\\alpha$ = 0.05"
   ]
  },
  {
   "cell_type": "markdown",
   "metadata": {},
   "source": [
    "**3. Select the appropriate test statistic**\n",
    "\n",
    "* T-test statistic\n",
    "    * One sample and one tailed\n",
    "    * Calculate population mean\n",
    "* So, use this formula:\n",
    "    * t = $\\frac{\\overline{x} - \\mu}{s/\\sqrt{n}}$"
   ]
  },
  {
   "cell_type": "markdown",
   "metadata": {},
   "source": [
    "**4. Formulate the decision rule**\n",
    "\n",
    "* From our table, we can conclude that our t-critical value is 1.711.\n",
    "    * Therefore we can formulate the following decision rules:\n",
    "        * If our t-computed value is more than 1.711, we reject $H_0$.\n",
    "        * If our t-computed value is less than or equal to 1.711, we do not reject $H_0$."
   ]
  },
  {
   "cell_type": "markdown",
   "metadata": {},
   "source": [
    "**5. Make a decision**"
   ]
  },
  {
   "cell_type": "code",
   "execution_count": 19,
   "metadata": {},
   "outputs": [
    {
     "name": "stdout",
     "output_type": "stream",
     "text": [
      "t-manual-computed: 1.4041431750540165\n"
     ]
    }
   ],
   "source": [
    "mu = 7\n",
    "t_critical = 1.711\n",
    "Xbar_s2 = np.mean(s2)\n",
    "std_s2 = np.std(s2, ddof=1)\n",
    "\n",
    "t_manual_computed = (Xbar_s2 - mu) / (std_s2 / np.sqrt(n_s2))\n",
    "\n",
    "print(\"t-manual-computed:\", t_manual_computed)"
   ]
  },
  {
   "cell_type": "code",
   "execution_count": 8,
   "metadata": {},
   "outputs": [
    {
     "name": "stdout",
     "output_type": "stream",
     "text": [
      "t-SciPy-computed: 1.404143175054016\n",
      "p-value: 0.08654267665291937\n"
     ]
    }
   ],
   "source": [
    "# check our t-computed with scipy\n",
    "t_scipy_computed, p_value = stats.ttest_1samp(s2, 7)\n",
    "print(\"t-SciPy-computed:\", t_scipy_computed)\n",
    "print(\"p-value:\", p_value/2)"
   ]
  },
  {
   "cell_type": "markdown",
   "metadata": {},
   "source": [
    "* **Decision-making time!**\n",
    "    * Since our t-computed value, checked by SciPy as 1.404, is less than 1.711, we can conclude from our decision rule, with a 0.05 level of significance, that we do not reject $H_0$, meaning s2 students on average pushed less than or equal to 7 days in advance.\n",
    "    * Thus, the results from the confidence interval and the hypothesis testing support and indicate consistency."
   ]
  },
  {
   "cell_type": "markdown",
   "metadata": {},
   "source": [
    "12. s1 and s2 two-sample, one-tailed t-test of the population means\n",
    "\n",
    "* We are using the t-test to test the following hypothesis: \n",
    "    * Hypothesis: on average, the s2 students pushed final commits earlier than the s1 students.\n",
    "        * Our question: did the s2 students push final commits earlier on average than the s1 students?\n",
    "    * Our level of significance is 0.05.\n",
    "    * Question after calculations: Did the s2 students push final commits earlier on average than the s1 students?"
   ]
  },
  {
   "cell_type": "markdown",
   "metadata": {},
   "source": [
    "Again, we'll use the 5 Step Hypothesis Testing Approach...\n",
    "1. Identify the null and alternative hypothesis\n",
    "2. Select the level of significance of the test\n",
    "3. Select the appropriate test statistic\n",
    "4. Formulate the decision rule\n",
    "5. Make a decision"
   ]
  },
  {
   "cell_type": "markdown",
   "metadata": {},
   "source": [
    "**1. Identify the null and alternative hypothesis**\n",
    "\n",
    "* Null hypothesis\n",
    "    * On average, the s2 students pushed final commits later than or on the same day as the s1 students.\n",
    "        * $H_0$: $\\mu_{s2}$ $\\le$ $\\mu_{s1}$\n",
    "\n",
    "* Alternative hypothesis\n",
    "    * On average, the s2 students pushed final commits earlier than the s1 students.\n",
    "        * $H_1$: $\\mu_{s2}$ > $\\mu_{s1}$"
   ]
  },
  {
   "cell_type": "markdown",
   "metadata": {},
   "source": [
    "**2. Select the level of significance of the test**\n",
    "\n",
    "* Level of significance \n",
    "    * $\\alpha$ = 0.05"
   ]
  },
  {
   "cell_type": "markdown",
   "metadata": {},
   "source": [
    "**3. Select the appropriate test statistic**\n",
    "\n",
    "* T-test statistic\n",
    "    * Two-sample (s1 and s2, independent) and one-tailed\n",
    "    * Calculate population means\n",
    "* So, use this formula:\n",
    "    * t = $\\frac{\\overline{X}_1 - \\overline{X}_2}{\\sqrt{s_p^2(\\frac{1}{n_1} + \\frac{1}{n_2})}}$"
   ]
  },
  {
   "cell_type": "markdown",
   "metadata": {},
   "source": [
    "**4. Formulate the decision rule**\n",
    "\n",
    "* From our table, we can conclude that our t-critical value is 1.684.\n",
    "    * Therefore we can formulate the following decision rules:\n",
    "        * If our t-computed value is greater than 1.684, we reject $H_0$.\n",
    "        * If our t-computed value is less than or equal to 1.684, we do not reject $H_0$."
   ]
  },
  {
   "cell_type": "markdown",
   "metadata": {},
   "source": [
    "**5. Make a decision**"
   ]
  },
  {
   "cell_type": "code",
   "execution_count": 23,
   "metadata": {},
   "outputs": [
    {
     "name": "stdout",
     "output_type": "stream",
     "text": [
      "t-manual-computed: 1.794018604733852\n"
     ]
    }
   ],
   "source": [
    "t_critical = 1.684\n",
    "Xbar_s1 = np.mean(s1)\n",
    "Xbar_s2 = np.mean(s2)\n",
    "std_s1 = np.std(s1, ddof=1)\n",
    "std_s2 = np.std(s2, ddof=1)\n",
    "n_s1 = 25\n",
    "n_s2 = 25\n",
    "\n",
    "df = n_s1 + n_s2 - 2\n",
    "sp2 = ((n_s1 - 1) * std_s1 ** 2 + (n_s2 - 1) * std_s2 ** 2) / df\n",
    "# t_manual_computed = (Xbar_s1 - Xbar_s2) / np.sqrt(sp2 * (1 / n_s1 + 1 / n_s2))\n",
    "t_manual_computed = (Xbar_s2 - Xbar_s1) / np.sqrt(sp2 * (1 / n_s1 + 1 / n_s2))\n",
    "print(\"t-manual-computed:\", t_manual_computed)\n"
   ]
  },
  {
   "cell_type": "code",
   "execution_count": 24,
   "metadata": {},
   "outputs": [
    {
     "name": "stdout",
     "output_type": "stream",
     "text": [
      "t-SciPy-computed: 1.794018604733852\n",
      "p-value: 0.04061593628200728\n"
     ]
    }
   ],
   "source": [
    "# check our t-computed with scipy\n",
    "t_scipy_computed, p_value = stats.ttest_ind(s2, s1, equal_var=False)\n",
    "print(\"t-SciPy-computed:\", t_scipy_computed)\n",
    "print(\"p-value:\", p_value/2)"
   ]
  },
  {
   "cell_type": "markdown",
   "metadata": {},
   "source": [
    "* **Decision-making time!**\n",
    "    * Since our t-computed value, checked by SciPy as 1.7940, is greater than 1.684, with a 0.05 level of significance, we can conclude from our decision rule that we reject $H_0$.\n",
    "    * Thus, the s2 students pushed final commits earlier than the s1 students."
   ]
  }
 ],
 "metadata": {
  "interpreter": {
   "hash": "6a1c7a3499dfbefa63c8c5f510cb542c36b2f7cb802a369a444f6b48ca1745e3"
  },
  "kernelspec": {
   "display_name": "Python 3.8.8 64-bit (system)",
   "language": "python",
   "name": "python3"
  },
  "language_info": {
   "codemirror_mode": {
    "name": "ipython",
    "version": 3
   },
   "file_extension": ".py",
   "mimetype": "text/x-python",
   "name": "python",
   "nbconvert_exporter": "python",
   "pygments_lexer": "ipython3",
   "version": "3.8.8"
  },
  "orig_nbformat": 4
 },
 "nbformat": 4,
 "nbformat_minor": 2
}
