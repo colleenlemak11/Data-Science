{
 "cells": [
  {
   "cell_type": "markdown",
   "metadata": {},
   "source": [
    "1. I believe that there should've been an opt-out option because of harmful situations like depression.  Although the study was said to have a minimal effect on emotion, I believe that if there is any risk beyond simply collecting statistics on features like user-clicks, then there should be a choice to not participate in order to be completely ethical.\n",
    "\n",
    "2. On occassion I scroll through Instagram, and I would say that any data collected in terms of videos I watch or posts I like makes sense to collect so the application can be tailored to my interests.  However, rumors of big companies being unethical by tapping into phones to listen to conversations outside of the application, or accessing cameras to watch day-to-day life would definitely be where I'd draw the line.  In addition, I do not love the idea of being able to manipulate a user's emotion by showing negative and positive posts, but rather I think it'd be more acceptable if companies made the control group with a normal feed, and the experimental group with a slightly more positive feed.\n",
    "\n",
    "3. #1: Using a website such as Google often isn't much of a choice because we need to always look up information, and that is mainly through Google.  However, by giving our consent in using this product, it means that these search browsers can manipulate our experience for the success of the company.  The crossing of boundaries are limitless, and I'd say it would affect my likelihood to opt-out of a potentially invasive study.  #2: I would say that security such as a firewall to protect a computer is practically a need in order to keep information safe, regardless of the ironic risks that may develop.  If companies were testing various firewalls to find out more about security breaches, I probably would not want to be in that study as my information is on the line.\n",
    "\n",
    "4. I thought the article was thought-provoking because many times companies will incoporate new marketing strategies, but the public may disagree on their code of ethics.  Meta means beyond or transcendent, and I think it's an interesting change as everyone will have to adjust to the company name as no longer \"Facebook\".  They may be changing the name to emphasize the new metaverse approach to advance technology."
   ]
  }
 ],
 "metadata": {
  "interpreter": {
   "hash": "6a1c7a3499dfbefa63c8c5f510cb542c36b2f7cb802a369a444f6b48ca1745e3"
  },
  "kernelspec": {
   "display_name": "Python 3.8.8 64-bit (system)",
   "language": "python",
   "name": "python3"
  },
  "language_info": {
   "name": "python",
   "version": "3.8.8"
  },
  "orig_nbformat": 4
 },
 "nbformat": 4,
 "nbformat_minor": 2
}
