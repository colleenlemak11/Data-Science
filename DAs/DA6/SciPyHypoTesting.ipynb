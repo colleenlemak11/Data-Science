{
 "cells": [
  {
   "cell_type": "markdown",
   "metadata": {},
   "source": [
    "Programmer: Colleen Lemak  \n",
    "Class: CPSC222, Fall 2021  \n",
    "Data Assignment #6  \n",
    "Date: 11/17/21  \n",
    "I did not attempt the bonus activity.  \n",
    "Description: This program uses Jupyter Notebook to execute various hypothesis testing tasks."
   ]
  },
  {
   "cell_type": "code",
   "execution_count": 231,
   "metadata": {},
   "outputs": [],
   "source": [
    "import pandas as pd\n",
    "import numpy as np\n",
    "import scipy.stats as stats\n",
    "import matplotlib.pyplot as plt\n",
    "import json\n",
    "import requests"
   ]
  },
  {
   "cell_type": "markdown",
   "metadata": {},
   "source": [
    "### SciPy Hypothesis Testing Exercises\n",
    "\n",
    "* In this Jupyter Notebook, we will perform hypothesis testing for the following situations:\n",
    "    1. Using the inpatient rehabilitation dataset from DA5, is the mean age of women who had a stroke greater than the mean age of men who had a stroke? Use a level of significance of 0.01.\n",
    "    2. Using the Piazza dataset, determine if there is a difference in the amount of posts 222 students made compare to 315 students. Use a level of significance of 0.01.\n",
    "    3. Using the IQ1 dataset, is the mean duration for students who took the quiz remotely greater than the mean duration for students who took the quiz in the classroom? Use a level of significance of 0.005.\n",
    "    4. Using the circuit dataset, is the mean circuit duration for subjects at trial B less than it was at trial A (meaning, did the subjects perform the circuit faster after one week of physical therapy)? Use a level of significance of 0.01.\n",
    "    5. Using the GU dataset, what interesting statistical inferences and conclusions do you find? Write up your approach and findings using data storytelling (e.g. narrative before and after code cells describing your experiment design for reproducibility, data visualization(s), write-up of key findings, etc.)."
   ]
  },
  {
   "cell_type": "markdown",
   "metadata": {},
   "source": [
    "1. Is the mean age of women who had a stroke greater than the mean age of men who had a stroke? Use a level of significance of 0.01.\n",
    "\n",
    "* Null hypothesis\n",
    "    * $H_0$: $\\mu_{women}$ $\\le$ $\\mu_{men}$\n",
    "* Alternative hypothesis\n",
    "    * $H_1$: $\\mu_{women}$ > $\\mu_{men}$\n",
    "* Level of significance\n",
    "    * $\\alpha$ = 0.01\n",
    "* T-test statistic\n",
    "    * Two sample (independent) and one-tailed\n",
    "    * t = $\\frac{\\overline{X}_1 - \\overline{X}_2}{\\sqrt{s_p^2(\\frac{1}{n_1} + \\frac{1}{n_2})}}$\n",
    "* Decision rule\n",
    "    * If t-computed is greater than 2.326, we will reject the null hypothesis.\n",
    "    * If t-computed is less than or equal to 2.326, we do not reject the null hypothesis."
   ]
  },
  {
   "cell_type": "code",
   "execution_count": 232,
   "metadata": {},
   "outputs": [],
   "source": [
    "# use data from DA5 patient data file\n",
    "patient_data = pd.read_csv(\"cleaned_patient_data.csv\")\n",
    "patient_data_df = pd.DataFrame(patient_data)\n",
    "stroke_data = []\n",
    "stroke_male_age = []\n",
    "stroke_female_age = []\n",
    "\n",
    "# parse through to find male and female ages at stroke event\n",
    "for i in range(len(patient_data)):\n",
    "    if (patient_data_df.at[i, \"RIC\"] == \"Stroke\"):\n",
    "        stroke_data.append(patient_data_df.at[i, \"Age\"])\n",
    "        if (patient_data_df.at[i, \"Gender\"] == 'M'):\n",
    "            stroke_male_age.append(patient_data_df.at[i, \"Age\"])\n",
    "        else:\n",
    "            stroke_female_age.append(patient_data_df.at[i, \"Age\"])\n",
    "stroke_male_age = pd.Series(stroke_male_age)\n",
    "stroke_female_age = pd.Series(stroke_female_age)"
   ]
  },
  {
   "cell_type": "code",
   "execution_count": 233,
   "metadata": {},
   "outputs": [
    {
     "name": "stdout",
     "output_type": "stream",
     "text": [
      "t-computed: 3.0212409378467506\n",
      "p-value: 0.0012861144659843757\n"
     ]
    }
   ],
   "source": [
    "t_critical = 2.326 # df closest to infinity\n",
    "t_computed, p_value = stats.ttest_ind(stroke_female_age, stroke_male_age)\n",
    "print(\"t-computed:\", t_computed)\n",
    "print(\"p-value:\", p_value/2)"
   ]
  },
  {
   "cell_type": "markdown",
   "metadata": {},
   "source": [
    "* **Decision-making time!**\n",
    "    * Since our t-computed value, 3.0212, is greater than 2.326, with a 0.01 level of significance, we can conclude from our decision rule that we reject $H_0$.\n",
    "    * Thus, the female age mean for stroke patients is greater than that of the male age mean."
   ]
  },
  {
   "cell_type": "markdown",
   "metadata": {},
   "source": [
    "2. Is there a difference in the amount of posts 222 students made compare to 315 students? Use a level of significance of 0.01.\n",
    "\n",
    "* Null hypothesis\n",
    "    * $H_0$: $\\mu_{222 students}$ = $\\mu_{315 students}$\n",
    "* Alternative hypothesis\n",
    "    * $H_1$: $\\mu_{222 students}$ $\\neq$ $\\mu_{315 students}$\n",
    "* Level of significance\n",
    "    * $\\alpha$ = 0.01\n",
    "* T-test statistic\n",
    "    * Two sample (independent) and two-tailed\n",
    "    * t = $\\frac{\\overline{X}_1 - \\overline{X}_2}{\\sqrt{s_p^2(\\frac{1}{n_1} + \\frac{1}{n_2})}}$\n",
    "* Decision rule\n",
    "    * If t-computed is greater than 2.660, or less than -2.660, we will reject the null hypothesis.\n",
    "    * If t-computed is greater or equal to -2.660 and less than or equal to 2.660, we do not reject the null hypothesis."
   ]
  },
  {
   "cell_type": "code",
   "execution_count": 234,
   "metadata": {},
   "outputs": [],
   "source": [
    "# access the data files\n",
    "url_222 = \"https://raw.githubusercontent.com/GonzagaCPSC222/DAs/master/files/piazza_222_users.json\"\n",
    "url_315 = \"https://raw.githubusercontent.com/GonzagaCPSC222/DAs/master/files/piazza_315_users.json\"\n",
    "response_222 = requests.get(url=url_222)\n",
    "response_315 = requests.get(url=url_315)\n",
    "\n",
    "# load both files into json objects\n",
    "json_obj_222 = json.loads(response_222.text)\n",
    "json_obj_315 = json.loads(response_315.text)"
   ]
  },
  {
   "cell_type": "code",
   "execution_count": 235,
   "metadata": {},
   "outputs": [],
   "source": [
    "# parse into the json objects to extrapolate number of posts\n",
    "posts_dict_222 = json_obj_222[\"posts\"]\n",
    "posts_dict_315 = json_obj_315[\"posts\"]\n",
    "\n",
    "# convert dictionaries into pandas series\n",
    "posts_dict_222 = pd.Series(posts_dict_222)\n",
    "posts_dict_315 = pd.Series(posts_dict_315)\n",
    "\n",
    "# transform 222 and 315 dictionaires into 1D series\n",
    "posts_222 = []\n",
    "for i in range(len(posts_dict_222)):\n",
    "    posts_222.append(posts_dict_222[i])\n",
    "posts_315 = []\n",
    "for i in range(len(posts_dict_315)):\n",
    "    posts_315.append(posts_dict_315[i])"
   ]
  },
  {
   "cell_type": "code",
   "execution_count": 236,
   "metadata": {},
   "outputs": [
    {
     "name": "stdout",
     "output_type": "stream",
     "text": [
      "t-computed: 1.2973862722114342\n",
      "p-value: 0.19785122075903916\n"
     ]
    }
   ],
   "source": [
    "n_222 = len(posts_222)\n",
    "n_315 = len(posts_315)\n",
    "df = n_222 + n_315 - 2\n",
    "t_critical = 2.660\n",
    "\n",
    "t_computed, p_value = stats.ttest_ind(posts_315, posts_222)\n",
    "print(\"t-computed:\", t_computed)\n",
    "print(\"p-value:\", p_value)\n"
   ]
  },
  {
   "cell_type": "markdown",
   "metadata": {},
   "source": [
    "* **Decision-making time!**\n",
    "    * Since our t-computed value, 1.2974, falls in between -2.660 and 2.660, with a 0.01 level of significance, we can conclude from our decision rule that we do not reject $H_0$.\n",
    "    * Thus, there is no difference in the amount of posts 222 students made compared to 315 students."
   ]
  },
  {
   "cell_type": "markdown",
   "metadata": {},
   "source": [
    "3. Is the mean duration for students who took the quiz remotely greater than the mean duration for students who took the quiz in the classroom? Use a level of significance of 0.005.\n",
    "\n",
    "* Null hypothesis\n",
    "    * $H_0$: $\\mu_{remote}$ $\\le$ $\\mu_{classroom}$\n",
    "* Alternative hypothesis\n",
    "    * $H_1$: $\\mu_{remote}$ > $\\mu_{classroom}$\n",
    "* Level of significance\n",
    "    * $\\alpha$ = 0.005\n",
    "* T-test statistic\n",
    "    * Two sample (independent) and one-tailed\n",
    "    * t = $\\frac{\\overline{X}_1 - \\overline{X}_2}{\\sqrt{s_p^2(\\frac{1}{n_1} + \\frac{1}{n_2})}}$\n",
    "* Decision rule\n",
    "    * If t-computed is greater than 2.617, we will reject the null hypothesis.\n",
    "    * If t-computed is less than or equal to 2.617 we do not reject the null hypothesis."
   ]
  },
  {
   "cell_type": "code",
   "execution_count": 237,
   "metadata": {},
   "outputs": [],
   "source": [
    "total_data = pd.read_csv(\"IQ1_quiz_durations.csv\")\n",
    "total_data_df = pd.DataFrame(total_data)\n",
    "\n",
    "method_series = total_data_df[\"In-person\"]\n",
    "duration_series = total_data_df[\"Hours Start to Finish\"]\n",
    "\n",
    "remote_duration = []\n",
    "classroom_duration = []\n",
    "for i in range(len(method_series)):\n",
    "    if method_series[i] == 0:\n",
    "        remote_duration.append(duration_series[i])\n",
    "    else:\n",
    "        classroom_duration.append(duration_series[i])"
   ]
  },
  {
   "cell_type": "code",
   "execution_count": 238,
   "metadata": {},
   "outputs": [
    {
     "name": "stdout",
     "output_type": "stream",
     "text": [
      "t-computed: 4.12720417112991\n",
      "p-value: 4.029306042293943e-05\n"
     ]
    }
   ],
   "source": [
    "n_remote = len(remote_duration)\n",
    "n_classroom = len(classroom_duration)\n",
    "df = n_remote + n_classroom - 2\n",
    "t_critical = 2.617\n",
    "\n",
    "t_computed, p_value = stats.ttest_ind(remote_duration, classroom_duration)\n",
    "print(\"t-computed:\", t_computed)\n",
    "print(\"p-value:\", p_value/2)"
   ]
  },
  {
   "cell_type": "markdown",
   "metadata": {},
   "source": [
    "* **Decision-making time!**\n",
    "    * Since our t-computed value, 4.1272, is greater than 2.617, with a 0.005 level of significance, we can conclude from our decision rule that we do must reject $H_0$.\n",
    "    * Thus, the remote students took longer on quizzes than the students in the classroom."
   ]
  },
  {
   "cell_type": "markdown",
   "metadata": {},
   "source": [
    "4. Is the mean circuit duration for subjects at trial B less than it was at trial A (meaning, did the subjects perform the circuit faster after one week of physical therapy)? Use a level of significance of 0.01.\n",
    "\n",
    "* Null hypothesis\n",
    "    * $H_0$: $\\mu_{trialB}$ $\\ge$ $\\mu_{trialA}$\n",
    "* Alternative hypothesis\n",
    "    * $H_1$: $\\mu_{trialB}$ < $\\mu_{trialA}$\n",
    "* Level of significance\n",
    "    * $\\alpha$ = 0.01\n",
    "* T-test statistic\n",
    "    * Two sample (dependent) and one-tailed\n",
    "    * t = $\\frac{\\overline{d} - \\mu_d}{s_{\\overline{d}}}$\n",
    "* Decision rule\n",
    "    * If t-computed is greater than or equal to 2.479, we do not reject the null hypothesis.\n",
    "    * If t-computed is less than 2.479, we will reject the null hypothesis."
   ]
  },
  {
   "cell_type": "code",
   "execution_count": 239,
   "metadata": {},
   "outputs": [],
   "source": [
    "total_data = pd.read_csv(\"circuit_trials.csv\")\n",
    "total_data_df = pd.DataFrame(total_data)\n",
    "\n",
    "trial_id = total_data_df[\"Trial ID\"]\n",
    "duration = total_data_df[\"Duration\"]\n",
    "\n",
    "A_duration = []\n",
    "B_duration = []\n",
    "for i in range(len(trial_id)):\n",
    "    if trial_id[i] == \"A\":\n",
    "        A_duration.append(duration[i])\n",
    "    else:\n",
    "        B_duration.append(duration[i])"
   ]
  },
  {
   "cell_type": "code",
   "execution_count": 240,
   "metadata": {},
   "outputs": [
    {
     "name": "stdout",
     "output_type": "stream",
     "text": [
      "3.336688368513952\n"
     ]
    }
   ],
   "source": [
    "n_A = len(A_duration)\n",
    "n_B = len(B_duration)\n",
    "df = n_B - 1\n",
    "t_critical = 2.479\n",
    "\n",
    "t_computed, p_value = stats.ttest_rel(A_duration, B_duration)\n",
    "print(t_computed)"
   ]
  },
  {
   "cell_type": "markdown",
   "metadata": {},
   "source": [
    "* **Decision-making time!**\n",
    "    * Since our t-computed value, 3.3367, is greater than 2.479, with a 0.01 level of significance, we can conclude from our decision rule that we do not reject $H_0$.\n",
    "    * Thus, the therapy helped and trial B improved from trial A."
   ]
  },
  {
   "cell_type": "markdown",
   "metadata": {},
   "source": [
    "5. What interesting statistical inferences and conclusions are there? Write up your approach and findings using data storytelling (e.g. narrative before and after code cells describing your experiment design for reproducibility, data visualization(s), write-up of key findings, etc.)."
   ]
  },
  {
   "cell_type": "code",
   "execution_count": 241,
   "metadata": {},
   "outputs": [],
   "source": [
    "total_data = pd.read_csv(\"GU_website_daily_visitors_2018-2021.csv\")\n",
    "total_data_df = pd.DataFrame(total_data)\n",
    "\n",
    "new_visitors = total_data_df[\"New Visitor\"]\n",
    "returning_visitors = total_data_df[\"Returning Visitor\"]\n",
    "dates = total_data_df[\"Date\"]"
   ]
  },
  {
   "cell_type": "code",
   "execution_count": 242,
   "metadata": {},
   "outputs": [
    {
     "data": {
      "image/png": "[encoded data removed]",
      "text/plain": [
       "<Figure size 432x288 with 1 Axes>"
      ]
     },
     "metadata": {
      "needs_background": "light"
     },
     "output_type": "display_data"
    }
   ],
   "source": [
    "labels = dates\n",
    "x = np.arange(len(labels))\n",
    "width = 0.35\n",
    "fig, ax = plt.subplots()\n",
    "rects1 = ax.bar(x - width/2, new_visitors, width, label=\"New Visitors\")\n",
    "rects2 = ax.bar(x + width/2, returning_visitors, width, label=\"Returning Visitors\")\n",
    "ax.set_title(\"GU Visitor Data\")\n",
    "\n",
    "ax.set_ylabel(\"Number of Visits\")\n",
    "ax.legend()\n",
    "\n",
    "plt.show()"
   ]
  },
  {
   "cell_type": "markdown",
   "metadata": {},
   "source": [
    "From this data, we can conclude that there was a spike of visits which is arond march madness!"
   ]
  }
 ],
 "metadata": {
  "interpreter": {
   "hash": "62d5fa2a16ce955d7a264e6706feb8088754ba4a8b2fa506b19effc7ba754be8"
  },
  "kernelspec": {
   "display_name": "Python 3.8.8 64-bit ('base': conda)",
   "language": "python",
   "name": "python3"
  },
  "language_info": {
   "codemirror_mode": {
    "name": "ipython",
    "version": 3
   },
   "file_extension": ".py",
   "mimetype": "text/x-python",
   "name": "python",
   "nbconvert_exporter": "python",
   "pygments_lexer": "ipython3",
   "version": "3.8.8"
  },
  "orig_nbformat": 4
 },
 "nbformat": 4,
 "nbformat_minor": 2
}
