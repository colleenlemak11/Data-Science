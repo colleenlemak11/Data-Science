{
 "cells": [
  {
   "cell_type": "markdown",
   "metadata": {},
   "source": [
    "Provide a summary of the chapter you chose. Have you had (or heard of) experiences similar to O'Neill's examples in the chapter? What do you think can/should be done to prevent WMDs from causing harm in this particular domain?\n",
    "* Chapter 3 talked mainly about how excellence is defined in universities.  They failed many times and ranked schools on arguably irrelevant information such as SAT scores or expensive tuition.  I feel as if experiences such as determining rank by SAT scores is not necessaily the best indicator of intelligence or hard work, but rather the resources and test-taking skills a student possesses.\n",
    "\n",
    "What else struck you about this chapter?\n",
    "I thought it was interesting that the website's solution was to put statistics up for each college so the student could decide for themselves instead of needing to follow an order of prestegious schools; this approach seems much more personalized and fitting for an incoming college student.\n",
    "\n",
    "In the conclusion, O'Neill states that the first step to regulating mathematical models is to begin with the modelers themselves. That's you! In the above exercises you constructed models and used them to make predictions. While models built on the Titanic dataset seem inoccuous, we have to remember that each instance in the dataset represents a person and a feature like Pclass encodes a peron's socio-economic status. You're also building models that represent yourself for the project. That all being said, do you pledge to the Hippocratic Oath? Like O'Neill, do you have additional terms you think should be added to the Oath?\n",
    "* I think it is important to recognize the work you're doing and to take responsibility as it could affect the world greatly, and the research should be correct. I agree with O'Neill's points about how our government needs to better support people, and that we need to construct algorithms to dismantle mass incarceration.\n",
    "\n",
    "O'Neill points out that the \"Hippocratic Oath ignores the on-the-ground pressure that data scientists often confront when bosses pushes for specific answers.\" Even if you don't become a \"data scientist\", you are going to be working with data in some form (e.g. careers in finance, marketing, social sciences, etc. all routinely work with data). Consequently, it is very likely that you'll be in a similar situation to what O'Neill describes at some point (sooner than later) in your career. Do you feel your experiences before Gonzaga, at Gonzaga, in this class, and from reading O'Neill's book provided have equipped you with the knowledge and skills to properly handle this situation? In closing, always remember that an \"instance\" in a \"dataset\" is often sampled from a human being, just like you. We are not equal to our data trails.\n",
    "* I think there is still much I can learn to better prepare myself, but I think I have been equipped with the ethical implications of my actions, enough to be able to trust my judgements and be aware of what my actions result in."
   ]
  }
 ],
 "metadata": {
  "interpreter": {
   "hash": "a1756c0836a08292a81bb0352adaf1d8dfc3eefd15bc9bde07703387c4c99a14"
  },
  "kernelspec": {
   "display_name": "Python 3.9.7 64-bit",
   "language": "python",
   "name": "python3"
  },
  "language_info": {
   "name": "python",
   "version": "3.9.7"
  },
  "orig_nbformat": 4
 },
 "nbformat": 4,
 "nbformat_minor": 2
}
