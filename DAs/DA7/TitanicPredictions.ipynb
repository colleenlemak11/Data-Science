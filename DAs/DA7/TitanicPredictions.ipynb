{
 "cells": [
  {
   "cell_type": "markdown",
   "metadata": {},
   "source": [
    "Programmer: Colleen Lemak  \n",
    "Class: CPSC222, Fall 2021  \n",
    "Data Assignment #7  \n",
    "Date: 12/06/2021  \n",
    "Description: This program uses Jupyter Notebook to predict survival of passengers based on sex listed in associated test.csv file."
   ]
  },
  {
   "cell_type": "code",
   "execution_count": 126,
   "metadata": {},
   "outputs": [],
   "source": [
    "import pandas as pd\n",
    "\n",
    "# load and store test and training data\n",
    "test_df = pd.read_csv(\"test.csv\")\n",
    "test_df = test_df.drop(\"Name\", axis=1)\n",
    "test_df = test_df.drop(\"Ticket\", axis=1)\n",
    "test_df = test_df.drop(\"Fare\", axis=1)\n",
    "test_df = test_df.drop(\"Cabin\", axis=1)\n",
    "\n",
    "train_df = pd.read_csv(\"train.csv\")\n",
    "train_df = train_df.drop(\"Name\", axis=1)\n",
    "train_df = train_df.drop(\"Ticket\", axis=1)\n",
    "train_df = train_df.drop(\"Fare\", axis=1)\n",
    "train_df = train_df.drop(\"Cabin\", axis=1)"
   ]
  },
  {
   "cell_type": "code",
   "execution_count": 127,
   "metadata": {},
   "outputs": [],
   "source": [
    "from sklearn.preprocessing import LabelEncoder\n",
    "\n",
    "def clean_data(df):\n",
    "    columnsToEncode = list(df.select_dtypes(include=['category','object']))\n",
    "    le = LabelEncoder()\n",
    "    for i in columnsToEncode:\n",
    "        df[i] = le.fit_transform(df[i])\n",
    "\n",
    "# female = 0, male = 1\n",
    "# C = 0, Q = 1, S = 2\n",
    "clean_data(test_df)\n",
    "test_df = test_df.fillna(0)\n",
    "clean_data(train_df)\n",
    "train_df = train_df.fillna(0)"
   ]
  },
  {
   "cell_type": "code",
   "execution_count": 128,
   "metadata": {},
   "outputs": [
    {
     "name": "stdout",
     "output_type": "stream",
     "text": [
      "By analyzing the chart, you can see the survivors were primarily women.\n",
      "     PassengerId  Survived  Pclass  Sex   Age  SibSp  Parch  Embarked\n",
      "1              2         1       1    0  38.0      1      0         0\n",
      "2              3         1       3    0  26.0      0      0         2\n",
      "3              4         1       1    0  35.0      1      0         2\n",
      "8              9         1       3    0  27.0      0      2         2\n",
      "9             10         1       2    0  14.0      1      0         0\n",
      "..           ...       ...     ...  ...   ...    ...    ...       ...\n",
      "875          876         1       3    0  15.0      0      0         0\n",
      "879          880         1       1    0  56.0      0      1         0\n",
      "880          881         1       2    0  25.0      0      1         2\n",
      "887          888         1       1    0  19.0      0      0         2\n",
      "889          890         1       1    1  26.0      0      0         0\n",
      "\n",
      "[342 rows x 8 columns]\n",
      "\n",
      "These statistics show the majority of non-survivors were men.\n",
      "     PassengerId  Survived  Pclass  Sex   Age  SibSp  Parch  Embarked\n",
      "0              1         0       3    1  22.0      1      0         2\n",
      "4              5         0       3    1  35.0      0      0         2\n",
      "5              6         0       3    1   0.0      0      0         1\n",
      "6              7         0       1    1  54.0      0      0         2\n",
      "7              8         0       3    1   2.0      3      1         2\n",
      "..           ...       ...     ...  ...   ...    ...    ...       ...\n",
      "884          885         0       3    1  25.0      0      0         2\n",
      "885          886         0       3    0  39.0      0      5         1\n",
      "886          887         0       2    1  27.0      0      0         2\n",
      "888          889         0       3    0   0.0      1      2         2\n",
      "890          891         0       3    1  32.0      0      0         1\n",
      "\n",
      "[549 rows x 8 columns]\n"
     ]
    }
   ],
   "source": [
    "# group the data by 1 for survived and 0 for died\n",
    "grouped_df = train_df.groupby(\"Survived\")\n",
    "survived = grouped_df.get_group(1)\n",
    "not_survived = grouped_df.get_group(0)\n",
    "\n",
    "print(\"By analyzing the chart, you can see the survivors were primarily women.\")\n",
    "print(survived)\n",
    "print()\n",
    "print(\"These statistics show the majority of non-survivors were men.\")\n",
    "print(not_survived)"
   ]
  },
  {
   "cell_type": "code",
   "execution_count": 129,
   "metadata": {},
   "outputs": [
    {
     "name": "stdout",
     "output_type": "stream",
     "text": [
      "     PassengerId  Pclass  Sex   Age  SibSp  Parch  Embarked\n",
      "0            892       3    1  34.5      0      0         1\n",
      "1            893       3    0  47.0      1      0         2\n",
      "2            894       2    1  62.0      0      0         1\n",
      "3            895       3    1  27.0      0      0         2\n",
      "4            896       3    0  22.0      1      1         2\n",
      "..           ...     ...  ...   ...    ...    ...       ...\n",
      "413         1305       3    1   0.0      0      0         2\n",
      "414         1306       1    0  39.0      0      0         0\n",
      "415         1307       3    1  38.5      0      0         2\n",
      "416         1308       3    1   0.0      0      0         2\n",
      "417         1309       3    1   0.0      1      1         0\n",
      "\n",
      "[418 rows x 7 columns]\n",
      "[0 1 0 0 1 0 1 0 0 0 0 0 1 0 1 0 0 0 1 0 0 0 0 1 0 0 0 0 0 0 0 0 1 0 0 0 0\n",
      " 1 0 0 1 0 0 1 1 0 0 0 0 1 0 0 1 1 0 0 0 0 0 0 0 0 0 1 1 0 1 0 0 1 1 0 1 0\n",
      " 0 0 0 1 0 1 1 0 0 0 0 0 1 1 0 0 1 0 1 0 0 0 1 0 1 0 0 0 0 0 0 0 0 0 0 0 0\n",
      " 0 0 1 1 0 0 1 0 1 1 0 0 0 0 1 0 0 0 0 0 0 0 0 0 0 0 0 1 0 1 1 1 0 0 0 0 0\n",
      " 0 0 0 0 0 1 0 0 1 1 0 1 0 1 1 0 0 1 0 0 1 1 0 0 0 0 0 1 1 0 1 0 0 1 1 0 0\n",
      " 0 1 0 0 0 0 0 0 0 0 0 1 1 0 0 0 0 0 1 0 0 1 0 0 0 0 0 0 1 1 0 0 0 0 0 0 0\n",
      " 1 0 0 0 0 0 0 0 0 1 0 0 0 0 0 0 1 0 0 1 1 0 0 0 1 0 1 1 1 0 0 0 0 0 0 0 1\n",
      " 0 0 0 1 1 0 0 0 0 0 0 0 0 0 0 0 1 0 0 0 0 1 0 0 0 1 0 0 0 0 0 0 1 0 0 0 0\n",
      " 0 0 0 0 0 0 0 0 0 1 0 0 0 1 0 0 0 1 0 1 0 0 0 0 0 0 0 0 1 0 1 0 0 0 1 0 0\n",
      " 0 0 0 0 1 0 0 0 0 0 0 0 1 0 0 0 1 0 0 0 0 0 0 1 0 0 1 0 0 1 0 0 0 0 1 0 0\n",
      " 0 0 0 0 1 0 1 0 0 0 0 0 0 1 0 1 0 0 0 0 0 1 0 0 0 1 0 0 0 0 1 0 0 0 0 0 0\n",
      " 1 0 1 0 1 1 0 0 0 0 0]\n"
     ]
    }
   ],
   "source": [
    "from sklearn.model_selection import train_test_split\n",
    "from sklearn.tree import DecisionTreeClassifier\n",
    "from sklearn.preprocessing import MinMaxScaler\n",
    "\n",
    "# use decision tree classifier to predict survival \n",
    "X = train_df.drop(\"Survived\", axis=1)\n",
    "print(test_df)\n",
    "y = train_df[\"Survived\"]\n",
    "# y = y[0:418]\n",
    "\n",
    "scaler = MinMaxScaler()\n",
    "X = scaler.fit_transform(X)\n",
    "\n",
    "tree_clf = DecisionTreeClassifier(random_state=0)\n",
    "tree_clf.fit(X, y)\n",
    "y_predicted = tree_clf.predict(test_df)\n",
    "print(y_predicted)\n",
    "\n",
    "header_list = [\"PassengerId\", \"Survived\"]\n",
    "passengerIds = test_df[\"PassengerId\"]\n",
    "new_df = pd.DataFrame()\n",
    "\n",
    "new_df[\"Survived\"] = y_predicted\n",
    "new_df.index = passengerIds\n",
    "\n",
    "new_df.to_csv(\"predictedTitanic_data\")"
   ]
  }
 ],
 "metadata": {
  "interpreter": {
   "hash": "62d5fa2a16ce955d7a264e6706feb8088754ba4a8b2fa506b19effc7ba754be8"
  },
  "kernelspec": {
   "display_name": "Python 3.8.8 64-bit ('base': conda)",
   "language": "python",
   "name": "python3"
  },
  "language_info": {
   "codemirror_mode": {
    "name": "ipython",
    "version": 3
   },
   "file_extension": ".py",
   "mimetype": "text/x-python",
   "name": "python",
   "nbconvert_exporter": "python",
   "pygments_lexer": "ipython3",
   "version": "3.8.8"
  },
  "orig_nbformat": 4
 },
 "nbformat": 4,
 "nbformat_minor": 2
}
