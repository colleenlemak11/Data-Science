{
 "cells": [
  {
   "cell_type": "markdown",
   "metadata": {},
   "source": [
    "Programmer: Colleen Lemak  \n",
    "Class: CPSC222, Fall 2021  \n",
    "Data Assignment #7  \n",
    "Date: 12/06/2021  \n",
    "Description: This program uses Jupyter Notebook to execute various tasks."
   ]
  },
  {
   "cell_type": "markdown",
   "metadata": {},
   "source": [
    "# kNN Trace"
   ]
  },
  {
   "cell_type": "code",
   "execution_count": 66,
   "metadata": {},
   "outputs": [],
   "source": [
    "import pandas as pd\n",
    "import math\n",
    "\n",
    "price_values = [7000,8000,14000,15000,20000,20000,22000,25000,27000,29000,30000,39000,40000,41000,]\n",
    "engine_power_values = [310,180,200,280,250,340,300,260,285,340,210,160,245,285]\n",
    "family_car_values = ['N','N','N','N','Y','Y','N','Y','Y','Y','N','N','N','N','N']\n",
    "\n",
    "price_values = pd.Series(price_values)\n",
    "engine_power_values = pd.Series(engine_power_values)\n",
    "family_car_values = pd.Series(family_car_values)\n",
    "\n",
    "price_min = price_values.min()\n",
    "price_range = price_values.max() - price_values.min()\n",
    "engine_power_min = engine_power_values.min()\n",
    "engine_power_range = engine_power_values.max() - engine_power_values.min()\n",
    "\n",
    "X_test = [21000, 190]\n",
    "unseen_x = (21000 - price_min) / price_range\n",
    "unseen_y = (190 - engine_power_min) / engine_power_range\n"
   ]
  },
  {
   "cell_type": "code",
   "execution_count": 67,
   "metadata": {},
   "outputs": [],
   "source": [
    "def scale_values(price, price_min, price_range, engine_power, engine_power_min, engine_power_range):\n",
    "    # calculate price value\n",
    "    numerator = price - price_min\n",
    "    denominator = price_range\n",
    "    price_val = round(numerator / denominator, 2)\n",
    "    # calculate engine power value\n",
    "    numerator = engine_power - engine_power_min\n",
    "    denominator = engine_power_range\n",
    "    engine_power_val = round(numerator / denominator, 2)\n",
    "    # return tuple of price, engine power\n",
    "    return price_val, engine_power_val\n",
    "\n",
    "def calculate_distance(unseen_x, unseen_y, scaled_price, scaled_engine_power):\n",
    "    distance = math.sqrt((scaled_price - unseen_x)**2 + (scaled_engine_power - unseen_y)**2)\n",
    "    return distance\n"
   ]
  },
  {
   "cell_type": "code",
   "execution_count": 93,
   "metadata": {},
   "outputs": [
    {
     "name": "stdout",
     "output_type": "stream",
     "text": [
      "k nearest neighbors: [0.20869461177576396, 0.29119515355655406, 0.33484340765633047, 0.38594740803450217, 0.41071972911731147]\n",
      "['N', 'N', 'Y', 'N', 'Y']\n",
      "The predicted family car value is: no.\n"
     ]
    }
   ],
   "source": [
    "distance_values = []\n",
    "for cur in range(len(price_values)):\n",
    "    scaled_price, scaled_engine_power = scale_values(price_values[cur], price_min, price_range, engine_power_values[cur], engine_power_min, engine_power_range)\n",
    "    distance = calculate_distance(unseen_x, unseen_y, scaled_price, scaled_engine_power)\n",
    "    distance_values.append(distance)\n",
    "\n",
    "sorted_distance_values = sorted(distance_values)\n",
    "\n",
    "k_nearest_neighbors = []\n",
    "for cur in range(5): \n",
    "    value = sorted_distance_values[cur]\n",
    "    k_nearest_neighbors.append(value)\n",
    "\n",
    "print(\"k nearest neighbors:\", k_nearest_neighbors)\n",
    "\n",
    "i = 0\n",
    "family_car_predicted = []\n",
    "for i in range(len(distance_values)):\n",
    "    if distance_values[i] == k_nearest_neighbors[0]:\n",
    "        family_car_predicted.append(family_car_values[i])\n",
    "\n",
    "for i in range(len(distance_values)):\n",
    "    if distance_values[i] == k_nearest_neighbors[1]:\n",
    "        family_car_predicted.append(family_car_values[i])\n",
    "\n",
    "for i in range(len(distance_values)):\n",
    "    if distance_values[i] == k_nearest_neighbors[2]:\n",
    "        family_car_predicted.append(family_car_values[i])\n",
    "\n",
    "for i in range(len(distance_values)):\n",
    "    if distance_values[i] == k_nearest_neighbors[3]:\n",
    "        family_car_predicted.append(family_car_values[i])\n",
    "\n",
    "for i in range(len(distance_values)):\n",
    "    if distance_values[i] == k_nearest_neighbors[4]:\n",
    "        family_car_predicted.append(family_car_values[i])\n",
    "\n",
    "print(family_car_predicted)\n",
    "print(\"The predicted family car value is: no.\")"
   ]
  }
 ],
 "metadata": {
  "interpreter": {
   "hash": "a1756c0836a08292a81bb0352adaf1d8dfc3eefd15bc9bde07703387c4c99a14"
  },
  "kernelspec": {
   "display_name": "Python 3.9.7 64-bit",
   "language": "python",
   "name": "python3"
  },
  "language_info": {
   "codemirror_mode": {
    "name": "ipython",
    "version": 3
   },
   "file_extension": ".py",
   "mimetype": "text/x-python",
   "name": "python",
   "nbconvert_exporter": "python",
   "pygments_lexer": "ipython3",
   "version": "3.8.8"
  },
  "orig_nbformat": 4
 },
 "nbformat": 4,
 "nbformat_minor": 2
}
