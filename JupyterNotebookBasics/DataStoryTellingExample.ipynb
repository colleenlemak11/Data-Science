{
 "cells": [
  {
   "cell_type": "markdown",
   "id": "faa87e0b-1232-483d-8646-3f09e78d4bf3",
   "metadata": {},
   "source": [
    "# Data Storytelling Example: Quality of Life Scores\n",
    "Let's do an example of data storytelling by investigating quality of life scores for various urban areas.  \n",
    "Why is this important?\n",
    "* To help you decide where to move/work?\n",
    "* To help you decide where to launch a tech start up\n",
    "* Etc...\n",
    "\n",
    "Here are some categories of quality of living  \n",
    "we are interested in:\n",
    "* Crime rate\n",
    "* Tech start up viability\n",
    "* Cost of living\n",
    "* Education\n",
    "* Etc...\n",
    "\n",
    "We can use the [Teleport API](https://developers.teleport.org/api/)  \n",
    "to get some of this information.  From the website:\n",
    "\n",
    ">We're building the largest and most up-to-date quality of life database for Planet Earth using 300+ different data dimensions from 70+ different sources, all updated periodically. Our global sources include the World Bank, World Health Organization, United Nations, Reporters Without Borders, OpenStreetMap, GeoNames, OpenFlights, Heritage Foundation, AngelList, Airbnb, Seed-DB and others. On top of these we augment the sets with things like laws and regulations, real estate prices and recruitment market data from local sources from countries around the world.\n"
   ]
  },
  {
   "cell_type": "markdown",
   "id": "36bc6e48-71a6-45e0-9308-5ba78248c795",
   "metadata": {},
   "source": [
    "## Proof of Concept: Seattle Quality of Life Scores\n",
    "To start, let's try tp use the API to get quality of life  \n",
    "scores for various categories for Seattle.  If we can get this  \n",
    "working for one urban area, we can get it working for other urban  \n",
    "areas, perhaps as part of a comparison.\n",
    "\n",
    "We can get the scores for an urban area using the [/urban_areas/{ua_id}/scores/](https://developers.teleport.org/api/reference/#!/urban_areas/getUrbanAreaScores) endpoint.  \n",
    "There is one required parameter, the `ua_id`.  We need this for Seattle.  Using the [listUrbanAreas](https://developers.teleport.org/api/reference/#!/urban_areas/listUrbanAreas) endpoint, we find the `ua_id` for Seattle is:  \n",
    "`slug:Seattle`"
   ]
  },
  {
   "cell_type": "code",
   "execution_count": 5,
   "id": "2b20f004-3aae-400b-8e32-d1843ba97a50",
   "metadata": {},
   "outputs": [
    {
     "name": "stdout",
     "output_type": "stream",
     "text": [
      "{\"_links\":{\"curies\":[{\"href\":\"https://developers.teleport.org/api/resources/Location/#!/relations/{rel}/\",\"name\":\"location\",\"templated\":true},{\"href\":\"https://developers.teleport.org/api/resources/City/#!/relations/{rel}/\",\"name\":\"city\",\"templated\":true},{\"href\":\"https://developers.teleport.org/api/resources/UrbanArea/#!/relations/{rel}/\",\"name\":\"ua\",\"templated\":true},{\"href\":\"https://developers.teleport.org/api/resources/Country/#!/relations/{rel}/\",\"name\":\"country\",\"templated\":true},{\"href\":\"https://developers.teleport.org/api/resources/Admin1Division/#!/relations/{rel}/\",\"name\":\"a1\",\"templated\":true},{\"href\":\"https://developers.teleport.org/api/resources/Timezone/#!/relations/{rel}/\",\"name\":\"tz\",\"templated\":true}],\"self\":{\"href\":\"https://api.teleport.org/api/urban_areas/slug:seattle/scores/\"}},\"categories\":[{\"color\":\"#f3c32c\",\"name\":\"Housing\",\"score_out_of_10\":2.291},{\"color\":\"#f3d630\",\"name\":\"Cost of Living\",\"score_out_of_10\":3.79},{\"color\":\"#f4eb33\",\"name\":\"Startups\",\"score_out_of_10\":8.367},{\"color\":\"#d2ed31\",\"name\":\"Venture Capital\",\"score_out_of_10\":7.551000000000001},{\"color\":\"#7adc29\",\"name\":\"Travel Connectivity\",\"score_out_of_10\":2.8845},{\"color\":\"#36cc24\",\"name\":\"Commute\",\"score_out_of_10\":4.523750000000001},{\"color\":\"#19ad51\",\"name\":\"Business Freedom\",\"score_out_of_10\":8.671},{\"color\":\"#0d6999\",\"name\":\"Safety\",\"score_out_of_10\":5.6365},{\"color\":\"#051fa5\",\"name\":\"Healthcare\",\"score_out_of_10\":8.724333333333332},{\"color\":\"#150e78\",\"name\":\"Education\",\"score_out_of_10\":5.7145},{\"color\":\"#3d14a4\",\"name\":\"Environmental Quality\",\"score_out_of_10\":7.560250000000001},{\"color\":\"#5c14a1\",\"name\":\"Economy\",\"score_out_of_10\":6.5145},{\"color\":\"#88149f\",\"name\":\"Taxation\",\"score_out_of_10\":4.772},{\"color\":\"#b9117d\",\"name\":\"Internet Access\",\"score_out_of_10\":4.940499999999999},{\"color\":\"#d10d54\",\"name\":\"Leisure \\u0026 Culture\",\"score_out_of_10\":8.1155},{\"color\":\"#e70c26\",\"name\":\"Tolerance\",\"score_out_of_10\":8.0895},{\"color\":\"#f1351b\",\"name\":\"Outdoors\",\"score_out_of_10\":7.2094999999999985}],\"summary\":\"\\u003cp\\u003eSeattle, Washington, is among the top cities with a \\u003cb\\u003efree business environment\\u003c/b\\u003e.\\n\\n    \\n        According to our city rankings, this is a good place to live with high ratings in \\u003cb\\u003estartups\\u003c/b\\u003e, \\u003cb\\u003eventure capital\\u003c/b\\u003e and \\u003cb\\u003ehealthcare\\u003c/b\\u003e.\\n    \\n\\n    \\n\\u003c/p\\u003e\\n\\n\\n    \\u003cp\\u003eSeattle is one of the top ten city matches for 3.2% of Teleport users.\\u003c/p\\u003e\\n\",\"teleport_city_score\":62.74189189189191}\n"
     ]
    }
   ],
   "source": [
    "import requests\n",
    "\n",
    "url = \"https://api.teleport.org/api//urban_areas/slug:seattle/scores/\"\n",
    "\n",
    "response = requests.get(url=url)\n",
    "print(response.text)\n"
   ]
  },
  {
   "cell_type": "markdown",
   "id": "c3a994b9-669b-4d0f-90f8-753cded16b06",
   "metadata": {},
   "source": [
    "### Parse JSON Response\n",
    "Now, let's try to get the category name:score pairs out by parsing the JSON response."
   ]
  },
  {
   "cell_type": "code",
   "execution_count": 6,
   "id": "d9534308-d918-4a11-ad60-17f1e40c0622",
   "metadata": {},
   "outputs": [
    {
     "name": "stdout",
     "output_type": "stream",
     "text": [
      "dict_keys(['_links', 'categories', 'summary', 'teleport_city_score'])\n",
      "Housing                  2.291000\n",
      "Cost of Living           3.790000\n",
      "Startups                 8.367000\n",
      "Venture Capital          7.551000\n",
      "Travel Connectivity      2.884500\n",
      "Commute                  4.523750\n",
      "Business Freedom         8.671000\n",
      "Safety                   5.636500\n",
      "Healthcare               8.724333\n",
      "Education                5.714500\n",
      "Environmental Quality    7.560250\n",
      "Economy                  6.514500\n",
      "Taxation                 4.772000\n",
      "Internet Access          4.940500\n",
      "Leisure & Culture        8.115500\n",
      "Tolerance                8.089500\n",
      "Outdoors                 7.209500\n",
      "dtype: float64\n"
     ]
    }
   ],
   "source": [
    "import json\n",
    "import pandas as pd\n",
    "\n",
    "json_obj = json.loads(response.text)\n",
    "print(json_obj.keys())\n",
    "category_list = json_obj[\"categories\"]\n",
    "\n",
    "cat_ser = pd.Series(dtype=float)\n",
    "for category_obj in category_list:\n",
    "    name = category_obj[\"name\"]\n",
    "    score = category_obj[\"score_out_of_10\"]\n",
    "    cat_ser[name] = score\n",
    "print(cat_ser)"
   ]
  },
  {
   "cell_type": "markdown",
   "id": "5aed5716-45fb-47a4-91f2-bc8fa2765d3a",
   "metadata": {},
   "source": [
    "## Visualize the Scores\n",
    "Now we have category names and pairs extracted, make a graph"
   ]
  },
  {
   "cell_type": "code",
   "execution_count": 11,
   "id": "ba83163c-faea-4336-9929-7efd2e868bf3",
   "metadata": {},
   "outputs": [
    {
     "data": {
      "text/plain": [
       "<function matplotlib.pyplot.show(close=None, block=None)>"
      ]
     },
     "execution_count": 11,
     "metadata": {},
     "output_type": "execute_result"
    },
    {
     "data": {
      "image/png": "[encoded data removed]",
      "text/plain": [
       "<Figure size 432x288 with 1 Axes>"
      ]
     },
     "metadata": {
      "needs_background": "light"
     },
     "output_type": "display_data"
    }
   ],
   "source": [
    "%matplotlib inline\n",
    "\n",
    "import matplotlib.pyplot as plt\n",
    "\n",
    "plt.bar(cat_ser.index, cat_ser)\n",
    "plt.title(\"Seattle Quality of Life Scores\")\n",
    "plt.xlabel(\"Categories\")\n",
    "plt.xticks(rotation=45, ha=\"right\")\n",
    "plt.ylabel(\"Score out of 10\")\n",
    "plt.show"
   ]
  },
  {
   "cell_type": "markdown",
   "id": "ec1a20f6-a803-498a-a60a-c7cfa4ee9d29",
   "metadata": {},
   "source": [
    "## Insights\n",
    "Looking at the chart, there are some pros and cons that stand out about Seattle:\n",
    "\n",
    "Pros\n",
    "* Business freedom\n",
    "* Startups\n",
    "* Tolerance\n",
    "* Healthcare\n",
    "* Leisure and culture\n",
    "\n",
    "Cons\n",
    "* Housing\n",
    "* Cost of Living\n",
    "* Travel connectivity"
   ]
  },
  {
   "cell_type": "markdown",
   "id": "e91aee2b-db40-46bf-8a94-e92f7bcf9591",
   "metadata": {},
   "source": [
    "## Future work\n",
    "Now that we have conclused our proof of concept for Seattle, we can generalize our code  \n",
    "to work for other urban areas with the goal of comparing them for working/living and/or starting  \n",
    "a new company."
   ]
  }
 ],
 "metadata": {
  "kernelspec": {
   "display_name": "Python 3",
   "language": "python",
   "name": "python3"
  },
  "language_info": {
   "codemirror_mode": {
    "name": "ipython",
    "version": 3
   },
   "file_extension": ".py",
   "mimetype": "text/x-python",
   "name": "python",
   "nbconvert_exporter": "python",
   "pygments_lexer": "ipython3",
   "version": "3.8.8"
  }
 },
 "nbformat": 4,
 "nbformat_minor": 5
}
