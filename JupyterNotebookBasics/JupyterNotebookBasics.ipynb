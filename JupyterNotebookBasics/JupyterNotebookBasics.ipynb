{
 "cells": [
  {
   "cell_type": "code",
   "execution_count": 7,
   "id": "fbe3eada",
   "metadata": {},
   "outputs": [],
   "source": [
    "import pandas as pd"
   ]
  },
  {
   "cell_type": "code",
   "execution_count": 8,
   "id": "6c29d192",
   "metadata": {},
   "outputs": [],
   "source": [
    "import importlib\n",
    "import utils\n",
    "importlib.reload(utils)"
   ]
  },
  {
   "cell_type": "markdown",
   "id": "fc7031b9",
   "metadata": {},
   "source": [
    "Jupyter Notebook: a list of interleaved code and markdown cells that collectively tell a data science story"
   ]
  },
  {
   "cell_type": "markdown",
   "id": "f8d6187e",
   "metadata": {},
   "source": [
    "# This is a level 1 Header\n",
    "## This is a level 2 Header\n",
    "### This is a Level 3 Header"
   ]
  },
  {
   "cell_type": "markdown",
   "id": "b5d7745c",
   "metadata": {},
   "source": [
    "This is paragraph text\n",
    "\n",
    "This is the next line\n",
    "\n",
    "This is a hard break...note the extra line between the text\n",
    "\n",
    "As opposed to a soft break  \n",
    "This is the next line...there are two spaces after \"break\""
   ]
  },
  {
   "cell_type": "markdown",
   "id": "2b76488c",
   "metadata": {},
   "source": [
    "## Formatting\n",
    "We can **bold** *italicize* and ~~strikethrough~~\n",
    "\n",
    ">This is a block quote  \n",
    "It can span multiple lines\n",
    "\n",
    "Code formatting...inline or block\n",
    "e.g. `import pandas as pd` (use tick in top left)\n",
    "\n",
    "```\n",
    "Use triple ticks\n",
    "for i in range(5):\n",
    "   print(i)\n",
    "```\n",
    "\n",
    "Syntax highlighting:\n",
    "```python\n",
    "for i in range(5):\n",
    "   print(i)\n",
    "```"
   ]
  },
  {
   "cell_type": "markdown",
   "id": "0c8c0a43",
   "metadata": {},
   "source": [
    "## Lists\n",
    "Unordered Lists:\n",
    "* First item\n",
    "* Second item\n",
    "* Third item\n",
    "\n",
    "Ordered lists:\n",
    "1. First\n",
    "2. Second\n",
    "3. Third\n",
    "\n",
    "We can mix and nest the list types:\n",
    "1. Item 1\n",
    "2. Item 2\n",
    "    * An item\n",
    "3. Item 3\n",
    "    1. Item 3A\n",
    "    2. Item 3B\n",
    "    3. Item 3C\n",
    "    \n"
   ]
  },
  {
   "cell_type": "markdown",
   "id": "69613b1b",
   "metadata": {},
   "source": [
    "## Links\n",
    "I recommend you check out this Markdown tutorial: https://www.markdowntutorial.com/  \n",
    "Another way: check out [this Markdown tutorial](https://www.markdowntutorial.com/)"
   ]
  },
  {
   "cell_type": "markdown",
   "id": "d42eaf71",
   "metadata": {},
   "source": [
    "# Images\n",
    "`![alt text](path or URL to the image)`\n",
    "![I heart markdown](https://cdn.foliovision.com/images/2017/03/i-love-markdown.png)\n",
    "\n",
    "How to resize the image:\n",
    "<img src=\"https://cdn.foliovision.com/images/2017/03/i-love-markdown.png\"\n",
    "     width=\"400\"/>"
   ]
  },
  {
   "cell_type": "markdown",
   "id": "28d92cc7",
   "metadata": {},
   "source": [
    "## Tables\n",
    "|CarName|ModelYear|MSRP|\n",
    "|-|-|-|\n",
    "|ford pinto|75|1111|\n",
    "|toyota corolla|76|2222|"
   ]
  },
  {
   "cell_type": "markdown",
   "id": "7d42d32e",
   "metadata": {},
   "source": [
    "## Latex (Math Mode)\n",
    "Latex is a mathematical/document typesetting language/framework (super powerful!)  \n",
    "We are going to use Latex for its math mode (rendering nicely typeset math expressions/equations)\n",
    "\n",
    "Use dollar signs to enter/exit math mode\n",
    "\n",
    "Inline math mode: $y = mx + b$  \n",
    "Block/centered math mode:  $$y = mx + b$$\n",
    "\n",
    "Subscripts: $x_i$  $x_{i+1}$  \n",
    "Superscripts: $x^i$  $x^{i+1}$\n",
    "\n",
    "Symbols over characters: $\\overline{x+1}$  $\\widehat{x+1}$  \n",
    "Special symbols: $\\pi \\mu  \\sigma  \\Sigma  \\forall$\n",
    "\n",
    "Square root: $\\sqrt{x + y + z}$\n",
    "Summation notation: $\\sum_{i=1}^{n} i \\times x_i$\n",
    "\n",
    "Fractions: $\\frac{1}{\\sqrt{x + y + z}}$"
   ]
  }
 ],
 "metadata": {
  "interpreter": {
   "hash": "62d5fa2a16ce955d7a264e6706feb8088754ba4a8b2fa506b19effc7ba754be8"
  },
  "kernelspec": {
   "display_name": "Python 3.8.8 64-bit ('base': conda)",
   "name": "python3"
  },
  "language_info": {
   "codemirror_mode": {
    "name": "ipython",
    "version": 3
   },
   "file_extension": ".py",
   "mimetype": "text/x-python",
   "name": "python",
   "nbconvert_exporter": "python",
   "pygments_lexer": "ipython3",
   "version": "3.8.8"
  }
 },
 "nbformat": 4,
 "nbformat_minor": 5
}
