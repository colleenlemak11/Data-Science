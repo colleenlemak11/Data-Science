{
 "cells": [
  {
   "cell_type": "code",
   "execution_count": 24,
   "metadata": {},
   "outputs": [],
   "source": [
    "import requests  \n",
    "import pandas as pd\n",
    "import matplotlib.pyplot as plt"
   ]
  },
  {
   "cell_type": "markdown",
   "metadata": {},
   "source": [
    " # Patient Exploratory Analysis\n",
    " ## Attribute Descriptions:\n",
    " * ID (integer): Index of the dataset. Counting numbers starting at 0.  \n",
    " * Gender (string): Gender of the patient, \"M\" for male and \"F\" for female.  \n",
    " * Age (integer): Age of the patient in years  \n",
    " * Marital Status (string): Description of the patient's marital status. No coding system enforced.  \n",
    " * RIC (integer): RIC of the patient assigned according to Appendix B in the Centers for Medicaid and Medicare Services IRF-PAI training manual.  \n",
    " * Admission Total FIM Score: The admission total Functional Independence Measure (FIM) score of the patient.\n",
    "    * The FIM is a clinical assessment used to measure patient functioning at inpatient rehabilitation hospitals. The FIM is measured at two distinct points in time: admission and discharge.  \n",
    "    * The FIM measures the level of assistance required to perform 18 activities of daily living (ADL) tasks (e.g. eating, walking, problem-solving, etc.).  \n",
    "    * The tasks are categorized as either motor (13 tasks) or cognitive (5 tasks). Each task is scored on a 7-point ordinal scale to measure independence as determined by the amount of assistance required to perform each ADL task.  \n",
    "    * For more information about the FIM, see Section III in the Centers for Medicaid and Medicare Services IRF-PAI training manual.  \n",
    "    * Discharge Total FIM Score: The discharge total FIM score of the patient.\n"
   ]
  },
  {
   "cell_type": "code",
   "execution_count": 25,
   "metadata": {},
   "outputs": [],
   "source": [
    "def clean_marital_column(substring, revised_entry):\n",
    "    '''this function cleans the Marital Status column from free response to the strict coding system'''\n",
    "    for x in range(len(patient_data_to_clean_df)):\n",
    "        if(substring in patient_data_to_clean_df.at[x, \"Marital Status\"]):\n",
    "            patient_data_to_clean_df.at[x, \"Marital Status\"] = revised_entry"
   ]
  },
  {
   "cell_type": "code",
   "execution_count": 26,
   "metadata": {},
   "outputs": [],
   "source": [
    "def assigning_NaN():\n",
    "    '''this function takes the remaining values in the Marital Status column and changes them to \"NaN\" '''\n",
    "    for x in range(len(patient_data_to_clean_df)):\n",
    "        if (patient_data_to_clean_df.at[x, \"Marital Status\"] != \"Divorced\" and patient_data_to_clean_df.at[x, \"Marital Status\"] != \"Never Married\" and patient_data_to_clean_df.at[x, \"Marital Status\"] != \"Married\" and patient_data_to_clean_df.at[x, \"Marital Status\"] != \"Widowed\" and patient_data_to_clean_df.at[x, \"Marital Status\"] != \"Separated\"):\n",
    "            patient_data_to_clean_df.at[x, \"Marital Status\"] = \"NaN\"\n",
    "  "
   ]
  },
  {
   "cell_type": "code",
   "execution_count": 27,
   "metadata": {},
   "outputs": [],
   "source": [
    "def decoding_RIC():\n",
    "    '''this function changes all of the keys to their respective value in the ric_decoder dictionary'''\n",
    "    patient_data_to_clean_df[\"RIC\"] = patient_data_to_clean_df[\"RIC\"].astype(str) #converts the integers from the DF to string\n",
    "    for x in range(len(patient_data_to_clean_df)):\n",
    "        for i in range(21):\n",
    "            j = str(i)\n",
    "            if(patient_data_to_clean_df.at[x,\"RIC\"] == j):\n",
    "                value1 = patient_data_to_clean_df.at[x,\"RIC\"]\n",
    "                patient_data_to_clean_df.at[x,\"RIC\"] = ric_decoder[int(value1)]"
   ]
  },
  {
   "cell_type": "code",
   "execution_count": 28,
   "metadata": {},
   "outputs": [],
   "source": [
    "def gathering_total(column_name, search_value):\n",
    "    '''this function gathers the total value of a specific value in a user entered column'''\n",
    "    total_count = 0\n",
    "    for x in range(len(patient_data_to_clean_df)):\n",
    "        if (patient_data_to_clean_df.at[x, column_name] == search_value):\n",
    "            total_count += 1\n",
    "    return total_count"
   ]
  },
  {
   "cell_type": "code",
   "execution_count": 29,
   "metadata": {},
   "outputs": [],
   "source": [
    "# def generating_histogram(x, y, filename):\n",
    "    "
   ]
  },
  {
   "cell_type": "code",
   "execution_count": 31,
   "metadata": {},
   "outputs": [],
   "source": [
    "#declaration block\n",
    "ric_decoder = {1: \"Stroke\", 2: \"TBI\", 3: \"NTBI\", 4: \"TSCI\", 5: \"NTSCI\", 6: \"Neuro\", 7: \"FracLE\", 8: \"ReplLE\", 9: \"Ortho\", 10: \"AMPLE\", 11: \"AMP-NLE\", 12: \"OsteoA\", 13: \"RheumA\", 14: \"Cardiac\", 15: \"Pulmonary\", 16: \"Pain\", 17: \"MMT-NBSCI\", 18: \"MMT-BSCI\", 19: \"GB\", 20: \"Misc\", 21: \"Burns\"}\n",
    "\n"
   ]
  },
  {
   "cell_type": "code",
   "execution_count": 32,
   "metadata": {},
   "outputs": [
    {
     "name": "stdout",
     "output_type": "stream",
     "text": [
      "0          4555\n",
      "1          2313\n",
      "2          2242\n",
      "3          2261\n",
      "4        Stroke\n",
      "5          1169\n",
      "6     71.292558\n",
      "7     14.340883\n",
      "8      70.07743\n",
      "9     13.841474\n",
      "10    72.604982\n",
      "11    14.761702\n",
      "dtype: object\n"
     ]
    }
   ],
   "source": [
    "patient_data_to_clean_infile = pd.read_csv(\"patient_data_to_clean.csv\", index_col=\"ID\")\n",
    "patient_data_to_clean_df = pd.DataFrame(patient_data_to_clean_infile)\n",
    "\n",
    "\n",
    "clean_marital_column(\"WID\", \"Widowed\")\n",
    "clean_marital_column(\"wid\", \"Widowed\")\n",
    "clean_marital_column(\"Wid\", \"Widowed\")\n",
    "\n",
    "clean_marital_column(\"DIV\", \"Divorced\")\n",
    "clean_marital_column(\"Div\", \"Divorced\")\n",
    "clean_marital_column(\"div\", \"Divorced\")\n",
    "\n",
    "clean_marital_column(\"SEP\", \"Seperated\")\n",
    "clean_marital_column(\"Sep\", \"Seperated\")\n",
    "clean_marital_column(\"sep\", \"Seperated\")\n",
    "\n",
    "clean_marital_column(\"Sin\", \"Single\")\n",
    "clean_marital_column(\"SIN\", \"Single\")\n",
    "clean_marital_column(\"sin\", \"Single\")\n",
    "#nev -> Single\n",
    "clean_marital_column(\"NEV\", \"Single\")\n",
    "clean_marital_column(\"Nev\", \"Single\")\n",
    "clean_marital_column(\"nev\", \"Single\")\n",
    "\n",
    "clean_marital_column(\"mar\", \"Married\")\n",
    "clean_marital_column(\"Mar\", \"Married\")\n",
    "clean_marital_column(\"MAR\", \"Married\")\n",
    "\n",
    "clean_marital_column(\"Sin\", \"Never Married\")\n",
    "\n",
    "assigning_NaN()\n",
    "decoding_RIC()\n",
    "\n",
    "\n",
    "patients_total = len(patient_data_to_clean_df)\n",
    "females_total = gathering_total(\"Gender\", \"F\")\n",
    "males_total = gathering_total(\"Gender\", \"M\")\n",
    "married_total = gathering_total(\"Marital Status\", \"Married\")\n",
    "most_common_RIC = patient_data_to_clean_df[\"RIC\"].value_counts().idxmax()\n",
    "most_common_RIC_total = gathering_total(\"RIC\", most_common_RIC)\n",
    "\n",
    "\n",
    "\n",
    "stroke_data = []\n",
    "stroke_male_age = []\n",
    "stroke_female_age = []\n",
    "\n",
    "for i in range(len(patient_data_to_clean_df)):\n",
    "    if (patient_data_to_clean_df.at[i, \"RIC\"] == most_common_RIC):\n",
    "        stroke_data.append(patient_data_to_clean_df.at[i, \"Age\"])\n",
    "        if (patient_data_to_clean_df.at[i, \"Gender\"] == 'M'):\n",
    "            stroke_male_age.append(patient_data_to_clean_df.at[i, \"Age\"])\n",
    "        else:\n",
    "            stroke_female_age.append(patient_data_to_clean_df.at[i, \"Age\"])\n",
    "\n",
    "#doing the calcuations\n",
    "stroke_data = pd.Series(stroke_data)\n",
    "stroke_age_avg = stroke_data.mean() #7. \n",
    "stroke_age_std = stroke_data.std() #8.\n",
    "\n",
    "stroke_male_age = pd.Series(stroke_male_age)\n",
    "stroke_female_age = pd.Series(stroke_female_age)\n",
    "\n",
    "stroke_age_male_avg = stroke_male_age.mean() #9-12\n",
    "stroke_age_male_std = stroke_male_age.std()\n",
    "stroke_age_female_avg = stroke_female_age.mean()\n",
    "stroke_age_female_std = stroke_female_age.std()\n",
    "\n",
    "patient_data_stats = [patients_total, females_total, males_total, married_total, most_common_RIC, most_common_RIC_total, stroke_age_avg, stroke_age_std, stroke_age_male_avg, stroke_age_male_std, stroke_age_female_avg, stroke_age_female_std]\n",
    "patient_data_series = pd.Series(patient_data_stats)\n",
    "print(patient_data_series)\n",
    "\n",
    "\n",
    "patient_data_to_clean_df.to_csv(\"REVISED_PATIENT_INFO.csv\")"
   ]
  },
  {
   "cell_type": "markdown",
   "metadata": {},
   "source": [
    "### Series Observation Notes  \n",
    "Of the 4555 total patients, with the slight majority ofthem being male. Of all the total patients, about a third of them had a stroke or stroke related issue. The average of having a stroke was higher for a female was higher than the average age that a man had had a stroke. Statistically speaking, this means that the women were generally healthier than the men because the stroke came a later age."
   ]
  },
  {
   "cell_type": "code",
   "execution_count": null,
   "metadata": {},
   "outputs": [],
   "source": []
  }
 ],
 "metadata": {
  "interpreter": {
   "hash": "62d5fa2a16ce955d7a264e6706feb8088754ba4a8b2fa506b19effc7ba754be8"
  },
  "kernelspec": {
   "display_name": "Python 3.8.8 64-bit ('base': conda)",
   "name": "python3"
  },
  "language_info": {
   "codemirror_mode": {
    "name": "ipython",
    "version": 3
   },
   "file_extension": ".py",
   "mimetype": "text/x-python",
   "name": "python",
   "nbconvert_exporter": "python",
   "pygments_lexer": "ipython3",
   "version": "3.8.8"
  },
  "orig_nbformat": 4
 },
 "nbformat": 4,
 "nbformat_minor": 2
}
