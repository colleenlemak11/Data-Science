{
 "cells": [
  {
   "cell_type": "markdown",
   "metadata": {},
   "source": [
    "IQ9 helper file"
   ]
  },
  {
   "cell_type": "code",
   "execution_count": 1,
   "metadata": {},
   "outputs": [],
   "source": [
    "import pandas as pd\n",
    "import numpy as np\n",
    "import scipy.stats as stats\n",
    "import matplotlib.pyplot as plt\n",
    "import json\n",
    "import requests"
   ]
  },
  {
   "cell_type": "code",
   "execution_count": 5,
   "metadata": {},
   "outputs": [
    {
     "name": "stdout",
     "output_type": "stream",
     "text": [
      "2.0795009796401454\n"
     ]
    }
   ],
   "source": [
    "seattle_tips = [23, 23, 28, 21, 22, 27, 27, 29]\n",
    "spokane_tips = [19, 24, 18, 25, 26, 22, 24, 20, 24, 18]\n",
    "t_crit = 2.583\n",
    "t_computed, p_value = stats.ttest_ind(seattle_tips, spokane_tips)\n",
    "print(t_computed)"
   ]
  }
 ],
 "metadata": {
  "interpreter": {
   "hash": "62d5fa2a16ce955d7a264e6706feb8088754ba4a8b2fa506b19effc7ba754be8"
  },
  "kernelspec": {
   "display_name": "Python 3.8.8 64-bit ('base': conda)",
   "language": "python",
   "name": "python3"
  },
  "language_info": {
   "codemirror_mode": {
    "name": "ipython",
    "version": 3
   },
   "file_extension": ".py",
   "mimetype": "text/x-python",
   "name": "python",
   "nbconvert_exporter": "python",
   "pygments_lexer": "ipython3",
   "version": "3.8.8"
  },
  "orig_nbformat": 4
 },
 "nbformat": 4,
 "nbformat_minor": 2
}
