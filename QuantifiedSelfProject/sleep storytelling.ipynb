{
 "cells": [
  {
   "cell_type": "markdown",
   "metadata": {},
   "source": [
    "Programmer: Colleen Lemak  \n",
    "Class: CPSC222, Fall 2021  \n",
    "Quantified Self Project  \n",
    "Date: 12/06/21    \n",
    "Description: This file uses Jupyter Notebook and Python to tell a data story and execute various tasks."
   ]
  },
  {
   "cell_type": "markdown",
   "metadata": {},
   "source": [
    "# Exploring My Sleep Data!"
   ]
  },
  {
   "cell_type": "markdown",
   "metadata": {},
   "source": [
    "## Introduction\n",
    "Getting quality sleep is crucial to a productive day and a healthy lifestyle, which made me curious and inclined to gain insight into my sleep schedule.\n",
    "\n",
    "* My sleep data is stored in a CSV file, and tables included are my sleep data information and the days of the week information; additionally, statistics are collected through my Apple Watch's \"Sleep++\" application, and this data is merged with another CSV file of the day of the week.\n",
    "\n",
    "* Relevant attributes in the CSV file include the start and end date of the night of sleep, total duration of sleep, restful minutes, restless minutes, and awake minutes.\n",
    "\n",
    "Our main goal is to make a prediction about my sleep data, and discover insights.  \n",
    "\n",
    "* I want to predict that the amount of sleep I receive on Monday and Wednesday nights is higher than Tuesday and Thursday nights' rest.\n",
    "* Why do we care?\n",
    "    * These results could potentially impact how I think about my sleep and how I prioritize sleep on a given night, especially if I know I am more prone to sleep fewer hours on one night in comparison to another.\n",
    "    * Stakeholders interested in my results could be various researchers studying mental health of college students, or companies who market to adults such as Melatonin brands."
   ]
  },
  {
   "cell_type": "markdown",
   "metadata": {},
   "source": [
    "Dataset Details\n",
    "1. It spans the time frame of the majority of the school year.\n",
    "    * Monday, August 31 through Monday, November 15\n",
    "2. Sleep data is recorded in minutes.\n",
    "3. Information is collected through Apple Watch's connection to the Sleep++ application."
   ]
  },
  {
   "cell_type": "markdown",
   "metadata": {},
   "source": [
    "## Data Analysis"
   ]
  },
  {
   "cell_type": "markdown",
   "metadata": {},
   "source": [
    "First, let's open, load, and store our sleep data in a data frame.\n",
    "\n",
    "Then, before performing calculations, we must make sure the data has notable entries by properly cleaning the data.  \n",
    "* This dataset did not have many missing values, as I wore my watch to bed most nights.  \n",
    "* For the few data entries that were missing, I averaged the previous and succeding entries to interpolate that missing value.\n",
    "* There are challenges in preparing and cleaning data, especially if there are missing values, or noisy or invalid entries that are not relevant."
   ]
  },
  {
   "cell_type": "code",
   "execution_count": 40,
   "metadata": {},
   "outputs": [
    {
     "data": {
      "text/plain": [
       "<module 'utils' from 'c:\\\\Users\\\\clema\\\\OneDrive\\\\Documents\\\\CPSC 222\\\\QuantifiedSelfProject\\\\utils.py'>"
      ]
     },
     "execution_count": 40,
     "metadata": {},
     "output_type": "execute_result"
    }
   ],
   "source": [
    "import utils\n",
    "import importlib\n",
    "import scipy.stats as stats\n",
    "importlib.reload(utils)"
   ]
  },
  {
   "cell_type": "code",
   "execution_count": 41,
   "metadata": {},
   "outputs": [],
   "source": [
    "sleep_data_df = utils.load_and_store_data(\"my_sleep.csv\")\n",
    "sleep_data_df = utils.clean_data(sleep_data_df)"
   ]
  },
  {
   "cell_type": "markdown",
   "metadata": {},
   "source": [
    "Now, let's parse through data to visualize the 95% confidence interval for my the population mean of restful minutes sleeping."
   ]
  },
  {
   "cell_type": "code",
   "execution_count": 42,
   "metadata": {},
   "outputs": [
    {
     "name": "stdout",
     "output_type": "stream",
     "text": [
      "Margin of error: 13.72\n",
      "We are 95% confident the population mean (number of minutes slept each night) is in (436.89, 464.33)\n"
     ]
    },
    {
     "data": {
      "image/png": "[encoded data removed]",
      "text/plain": [
       "<Figure size 432x288 with 1 Axes>"
      ]
     },
     "metadata": {
      "needs_background": "light"
     },
     "output_type": "display_data"
    }
   ],
   "source": [
    "restful_minutes = sleep_data_df[\"Restful Minutes\"]\n",
    "dates = sleep_data_df[\"Start\"]\n",
    "utils.compute_and_visualize_conf_interval(restful_minutes, 2.000, \"Restful Sleep\")"
   ]
  },
  {
   "cell_type": "markdown",
   "metadata": {},
   "source": [
    "We can now look at the mean in a different way by visualizing all of the data points on a bar graph."
   ]
  },
  {
   "cell_type": "code",
   "execution_count": 43,
   "metadata": {},
   "outputs": [
    {
     "name": "stdout",
     "output_type": "stream",
     "text": [
      "0     453\n",
      "1     452\n",
      "2     505\n",
      "3     485\n",
      "4     452\n",
      "     ... \n",
      "72    488\n",
      "73    366\n",
      "74    484\n",
      "75    395\n",
      "76    384\n",
      "Name: Restful Minutes, Length: 77, dtype: int64\n"
     ]
    },
    {
     "data": {
      "image/png": "[encoded data removed]",
      "text/plain": [
       "<Figure size 432x288 with 1 Axes>"
      ]
     },
     "metadata": {
      "needs_background": "light"
     },
     "output_type": "display_data"
    },
    {
     "name": "stdout",
     "output_type": "stream",
     "text": [
      "The maximum minutes of sleep was 603 minutes, or 10.05 hours.\n",
      "The minimum minutes of sleep was 320 minutes, or 5.33 hours.\n"
     ]
    }
   ],
   "source": [
    "utils.sleep_bar_chart(restful_minutes, \"data in minutes\", \"Restful Sleep\", 40)\n",
    "utils.compute_min_and_max(restful_minutes)"
   ]
  },
  {
   "cell_type": "markdown",
   "metadata": {},
   "source": [
    "After looking into visualizations, we can formulate hypotheses about our data.\n",
    "\n",
    "Specifically, I will predict that the day of the week during the school year is correlated to the amount of sleep I received that night.\n",
    "\n",
    "* On Tuesday and Thursday nights, I feel I typically have more homework due that night or the next day, as compared to Monday and Wednesday nights.  \n",
    "Therefore, I would find it reasonable if I slept more on Monday and Wednesday, as fewer assignments are usually due the day of or the day after.\n",
    "* Big Question: \n",
    "    * On average, did I receive more sleep Monday and Wednesday nights in comparison to Tuesday and Thursday nights (during the school year)?"
   ]
  },
  {
   "cell_type": "markdown",
   "metadata": {},
   "source": [
    "In order to compare sleep minutes to days of the week, we have to merge and join these two dataframes on the date attribute."
   ]
  },
  {
   "cell_type": "code",
   "execution_count": 44,
   "metadata": {},
   "outputs": [],
   "source": [
    "days_of_week_df = utils.load_and_store_data(\"days_of_week.csv\")\n",
    "merged_df = sleep_data_df.merge(days_of_week_df, on=\"Start\")\n",
    "merged_df.to_csv(\"merged_df\")"
   ]
  },
  {
   "cell_type": "markdown",
   "metadata": {},
   "source": [
    "## Classification Results\n",
    "\n",
    "We will start with the 5 Step Hypothesis Approach and verify it afterwards with kNN!"
   ]
  },
  {
   "cell_type": "markdown",
   "metadata": {},
   "source": [
    "Let's use the 5 Step Hypothesis Testing Approach:\n",
    "1. Identify the null and alternative hypothesis\n",
    "2. Select the level of significance of the test\n",
    "3. Select the appropriate test statistic\n",
    "4. Formulate the decision rule\n",
    "5. Make a decision"
   ]
  },
  {
   "cell_type": "markdown",
   "metadata": {},
   "source": [
    "**1. Identify the null and alternative hypothesis**\n",
    "\n",
    "* Null hypothesis\n",
    "    * On average, I slept for fewer or the same amount of minutes on Monday and Wednesday nights in comparison to Tuesday and Thursday nights. \n",
    "        * $H_0$: $\\mu_{MW}$ $\\le$ $\\mu_{TTh}$\n",
    "\n",
    "* Alternative hypothesis\n",
    "    * On average, I slept for more minutes on Monday and Wednesday nights in comparison to Tuesday and Thursday nights. \n",
    "        * $H_1$: $\\mu_{MW}$ > $\\mu_{TTh}$"
   ]
  },
  {
   "cell_type": "markdown",
   "metadata": {},
   "source": [
    "**2. Select the level of significance of the test**\n",
    "\n",
    "* Level of significance \n",
    "    * $\\alpha$ = 0.05"
   ]
  },
  {
   "cell_type": "markdown",
   "metadata": {},
   "source": [
    "**3. Select the appropriate test statistic**\n",
    "\n",
    "* T-test statistic\n",
    "    * Two sample (independent) and one tailed\n",
    "* So, use this formula:\n",
    "    * t = $\\frac{\\overline{X}_1 - \\overline{X}_2}{\\sqrt{s_p^2(\\frac{1}{n_1} + \\frac{1}{n_2})}}$"
   ]
  },
  {
   "cell_type": "markdown",
   "metadata": {},
   "source": [
    "**4. Formulate the decision rule**\n",
    "\n",
    "* From our table, we can conclude that our t-critical value is 1.717.\n",
    "    * Therefore we can formulate the following decision rules:\n",
    "        * If our t-computed value is greater than 1.717, we reject $H_0$.\n",
    "        * If our t-computed value is less than or equal to 1.717, we do not reject $H_0$."
   ]
  },
  {
   "cell_type": "markdown",
   "metadata": {},
   "source": [
    "**5. Make a decision**"
   ]
  },
  {
   "cell_type": "code",
   "execution_count": 45,
   "metadata": {},
   "outputs": [],
   "source": [
    "monday = utils.get_restful_minutes(merged_df, \"Monday\")\n",
    "wednesday = utils.get_restful_minutes(merged_df, \"Wednesday\")\n",
    "tuesday = utils.get_restful_minutes(merged_df, \"Tuesday\")\n",
    "thursday = utils.get_restful_minutes(merged_df, \"Thursday\")\n",
    "\n",
    "mon_wed = utils.append_two_cols(monday, wednesday)\n",
    "tues_thurs = utils.append_two_cols(tuesday, thursday)"
   ]
  },
  {
   "cell_type": "code",
   "execution_count": 46,
   "metadata": {},
   "outputs": [
    {
     "name": "stdout",
     "output_type": "stream",
     "text": [
      "t-computed: 0.25981552368759847\n",
      "p-value: 0.3981377535032026\n"
     ]
    }
   ],
   "source": [
    "t_critical = 1.717\n",
    "t_computed, p_value = stats.ttest_ind(mon_wed, tues_thurs)\n",
    "print(\"t-computed:\", t_computed)\n",
    "print(\"p-value:\", p_value/2)"
   ]
  },
  {
   "cell_type": "markdown",
   "metadata": {},
   "source": [
    "* **Decision-making time!**\n",
    "    * Since our t-computed value, 0.2598, is less than 1.717, with a 0.05 level of significance, we can conclude from our decision rule that we do not reject $H_0$.\n",
    "    * Thus, I received more sleep on Monday and Wednesday nights compared to Tuesday and Thursday nights.\n",
    "\n",
    "* So, what was the difference in my sleep on Monday and Wednesday nights in comparison to Tuesday and Thursday nights?\n",
    "\n",
    "Let's calculate each sample's average..."
   ]
  },
  {
   "cell_type": "code",
   "execution_count": 47,
   "metadata": {},
   "outputs": [
    {
     "name": "stdout",
     "output_type": "stream",
     "text": [
      "Monday and Wednesday average minutes: 439.59   average hours: 7.33\n",
      "Tuesday and Thursday average minutes: 434.91   average hours: 7.25\n"
     ]
    }
   ],
   "source": [
    "utils.print_and_average(mon_wed, \"Monday and Wednesday\")\n",
    "utils.print_and_average(tues_thurs, \"Tuesday and Thursday\")"
   ]
  },
  {
   "cell_type": "markdown",
   "metadata": {},
   "source": [
    "Let's visualize Monday and Wednesday nights' sleep..."
   ]
  },
  {
   "cell_type": "code",
   "execution_count": 48,
   "metadata": {},
   "outputs": [
    {
     "name": "stdout",
     "output_type": "stream",
     "text": [
      "[453, 418, 473, 357, 399, 452, 507, 342, 468, 538, 444, 422, 488, 372, 489, 470, 441, 370, 471, 439, 463, 395]\n"
     ]
    },
    {
     "data": {
      "image/png": "[encoded data removed]",
      "text/plain": [
       "<Figure size 432x288 with 1 Axes>"
      ]
     },
     "metadata": {
      "needs_background": "light"
     },
     "output_type": "display_data"
    },
    {
     "name": "stdout",
     "output_type": "stream",
     "text": [
      "The maximum minutes of sleep was 538 minutes, or 8.97 hours.\n",
      "The minimum minutes of sleep was 342 minutes, or 5.7 hours.\n"
     ]
    }
   ],
   "source": [
    "utils.sleep_bar_chart(mon_wed, \"data in minutes\", \"Restful Sleep\", 11)\n",
    "utils.compute_min_and_max(mon_wed)"
   ]
  },
  {
   "cell_type": "markdown",
   "metadata": {},
   "source": [
    "Now how does this compare to Tuesday and Thursday nights' sleep..."
   ]
  },
  {
   "cell_type": "code",
   "execution_count": 49,
   "metadata": {},
   "outputs": [
    {
     "name": "stdout",
     "output_type": "stream",
     "text": [
      "[466, 452, 603, 320, 438, 530, 360, 353, 451, 490, 486, 445, 427, 388, 457, 490, 403, 344, 439, 358, 384, 484]\n"
     ]
    },
    {
     "data": {
      "image/png": "[encoded data removed]",
      "text/plain": [
       "<Figure size 432x288 with 1 Axes>"
      ]
     },
     "metadata": {
      "needs_background": "light"
     },
     "output_type": "display_data"
    },
    {
     "name": "stdout",
     "output_type": "stream",
     "text": [
      "The maximum minutes of sleep was 603 minutes, or 10.05 hours.\n",
      "The minimum minutes of sleep was 320 minutes, or 5.33 hours.\n"
     ]
    }
   ],
   "source": [
    "utils.sleep_bar_chart(tues_thurs, \"data in minutes\", \"Restful Sleep\", 11)\n",
    "utils.compute_min_and_max(tues_thurs)"
   ]
  },
  {
   "cell_type": "markdown",
   "metadata": {},
   "source": [
    "Let's support these results by also using the kNN classifier..."
   ]
  },
  {
   "cell_type": "code",
   "execution_count": 50,
   "metadata": {},
   "outputs": [],
   "source": [
    "import pandas as pd\n",
    "\n",
    "comparison_values = utils.write_yes_or_no_values(mon_wed,tues_thurs)\n",
    "comparison_values_series = pd.Series(comparison_values)\n",
    "comparison_values_series.to_csv(\"comparison_values.csv\")\n",
    "\n",
    "mon_wed = pd.Series(mon_wed)\n",
    "tues_thurs = pd.Series(tues_thurs)\n",
    "\n",
    "days_and_values_df = pd.concat([mon_wed,tues_thurs],axis=1)\n",
    "days_and_values_df.to_csv(\"days_and_values\")"
   ]
  },
  {
   "cell_type": "code",
   "execution_count": 51,
   "metadata": {},
   "outputs": [
    {
     "name": "stdout",
     "output_type": "stream",
     "text": [
      "y predicted: ['N' 'N' 'Y' 'Y' 'Y' 'Y']\n"
     ]
    }
   ],
   "source": [
    "from sklearn.preprocessing import MinMaxScaler\n",
    "from sklearn.model_selection import train_test_split\n",
    "from sklearn.neighbors import KNeighborsClassifier\n",
    "\n",
    "X = days_and_values_df\n",
    "y = comparison_values\n",
    "\n",
    "scaler = MinMaxScaler()\n",
    "X = scaler.fit_transform(X)\n",
    "\n",
    "X_train, X_test, y_train, y_test = train_test_split(X, y, random_state=0, stratify=y)\n",
    "\n",
    "knn_clf = KNeighborsClassifier(n_neighbors=3, metric=\"euclidean\")\n",
    "knn_clf.fit(X_train, y_train)\n",
    "y_predicted = knn_clf.predict(X_test)\n",
    "\n",
    "print(\"y predicted:\", y_predicted)"
   ]
  },
  {
   "cell_type": "code",
   "execution_count": 52,
   "metadata": {},
   "outputs": [
    {
     "name": "stdout",
     "output_type": "stream",
     "text": [
      "m: 0.35076948109691247 b: 287.0380729483973 r: 0.46828081779192093\n"
     ]
    }
   ],
   "source": [
    "import scipy.stats as stats\n",
    "\n",
    "x = tues_thurs\n",
    "y = mon_wed\n",
    "\n",
    "m, b, r, p_val, std_err = stats.linregress(x, y)\n",
    "print(\"m:\", m, \"b:\", b, \"r:\", r)"
   ]
  },
  {
   "cell_type": "markdown",
   "metadata": {},
   "source": [
    "From kNN, we can see that it predicts that the majority of the time I will recieve more sleep on Monday and Wednesday nights in comparison to Tuesday and Thursday nights.\n",
    "\n",
    "* I am evaluating performance based on how likely it is to receive those results.\n",
    "* Classification is tricky because of the various labels and transformations involved."
   ]
  },
  {
   "cell_type": "markdown",
   "metadata": {},
   "source": [
    "## Conclusion\n",
    "\n",
    "* The dataset records my sleep data in minutes from August 31, 2021 to November 15, and because I compared days of the week, classification required additional parsing to correct results.\n",
    "\n",
    "* I used kNN and the 5 step hypothesis approach, and I could potentially improve performance by removing columns of data that are irrelevant to the data.\n",
    "\n",
    "* With sleep, there are always ethical concerns regarding privacy, and it would be important to let people know they are part of an experiment if a mental health researcher was conducting experiments."
   ]
  }
 ],
 "metadata": {
  "interpreter": {
   "hash": "62d5fa2a16ce955d7a264e6706feb8088754ba4a8b2fa506b19effc7ba754be8"
  },
  "kernelspec": {
   "display_name": "Python 3.8.8 64-bit ('base': conda)",
   "language": "python",
   "name": "python3"
  },
  "language_info": {
   "codemirror_mode": {
    "name": "ipython",
    "version": 3
   },
   "file_extension": ".py",
   "mimetype": "text/x-python",
   "name": "python",
   "nbconvert_exporter": "python",
   "pygments_lexer": "ipython3",
   "version": "3.8.8"
  },
  "orig_nbformat": 4
 },
 "nbformat": 4,
 "nbformat_minor": 2
}
